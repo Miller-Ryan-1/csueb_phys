{
 "cells": [
  {
   "cell_type": "markdown",
   "id": "6adf82dc",
   "metadata": {},
   "source": [
    "# Class notebook for MATH300 - Proofs"
   ]
  },
  {
   "cell_type": "markdown",
   "id": "70cd5f77",
   "metadata": {},
   "source": [
    "**TO DO: make directory**"
   ]
  },
  {
   "cell_type": "markdown",
   "id": "628ff331",
   "metadata": {},
   "source": [
    "## 1/18: Create Truth Tables:"
   ]
  },
  {
   "cell_type": "code",
   "execution_count": 1,
   "id": "42e306c8",
   "metadata": {},
   "outputs": [],
   "source": [
    "# Import TTG, which is the underlying logic\n",
    "from ttg import Truths\n",
    "# Import pandas so you can use dataframes which are the bomb\n",
    "import pandas as pd\n",
    "\n",
    "# Truths([variables], [statements])\n",
    "# Truths(['p', 'q', 'r','s'], ['p and q', 'p or q','r and s', '~p','~q','(p or (~q))', '(p or (~q)) => (~p)']).as_pandas()"
   ]
  },
  {
   "cell_type": "code",
   "execution_count": 2,
   "id": "26650c57",
   "metadata": {},
   "outputs": [],
   "source": [
    "t_table1 = Truths(['p', 'q', 'r','s'], ['p and q', 'p or q','r and s', '~p','~q','(p or (~q))', '(p or (~q)) => (~p)']).as_pandas()\n",
    "t_table1"
   ]
  },
  {
   "cell_type": "code",
   "execution_count": 16,
   "id": "525cf64a",
   "metadata": {},
   "outputs": [
    {
     "data": {
      "text/html": [
       "<div>\n",
       "<style scoped>\n",
       "    .dataframe tbody tr th:only-of-type {\n",
       "        vertical-align: middle;\n",
       "    }\n",
       "\n",
       "    .dataframe tbody tr th {\n",
       "        vertical-align: top;\n",
       "    }\n",
       "\n",
       "    .dataframe thead th {\n",
       "        text-align: right;\n",
       "    }\n",
       "</style>\n",
       "<table border=\"1\" class=\"dataframe\">\n",
       "  <thead>\n",
       "    <tr style=\"text-align: right;\">\n",
       "      <th></th>\n",
       "      <th>po</th>\n",
       "      <th>q</th>\n",
       "      <th>r</th>\n",
       "      <th>s</th>\n",
       "      <th>~q</th>\n",
       "      <th>~po</th>\n",
       "      <th>po=&gt;q</th>\n",
       "      <th>~q=&gt;~po</th>\n",
       "      <th>~q and (r or ~s)</th>\n",
       "    </tr>\n",
       "  </thead>\n",
       "  <tbody>\n",
       "    <tr>\n",
       "      <th>1</th>\n",
       "      <td>1</td>\n",
       "      <td>1</td>\n",
       "      <td>1</td>\n",
       "      <td>1</td>\n",
       "      <td>0</td>\n",
       "      <td>0</td>\n",
       "      <td>1</td>\n",
       "      <td>1</td>\n",
       "      <td>0</td>\n",
       "    </tr>\n",
       "    <tr>\n",
       "      <th>2</th>\n",
       "      <td>1</td>\n",
       "      <td>1</td>\n",
       "      <td>1</td>\n",
       "      <td>0</td>\n",
       "      <td>0</td>\n",
       "      <td>0</td>\n",
       "      <td>1</td>\n",
       "      <td>1</td>\n",
       "      <td>0</td>\n",
       "    </tr>\n",
       "    <tr>\n",
       "      <th>3</th>\n",
       "      <td>1</td>\n",
       "      <td>1</td>\n",
       "      <td>0</td>\n",
       "      <td>1</td>\n",
       "      <td>0</td>\n",
       "      <td>0</td>\n",
       "      <td>1</td>\n",
       "      <td>1</td>\n",
       "      <td>0</td>\n",
       "    </tr>\n",
       "    <tr>\n",
       "      <th>4</th>\n",
       "      <td>1</td>\n",
       "      <td>1</td>\n",
       "      <td>0</td>\n",
       "      <td>0</td>\n",
       "      <td>0</td>\n",
       "      <td>0</td>\n",
       "      <td>1</td>\n",
       "      <td>1</td>\n",
       "      <td>0</td>\n",
       "    </tr>\n",
       "    <tr>\n",
       "      <th>5</th>\n",
       "      <td>1</td>\n",
       "      <td>0</td>\n",
       "      <td>1</td>\n",
       "      <td>1</td>\n",
       "      <td>1</td>\n",
       "      <td>0</td>\n",
       "      <td>0</td>\n",
       "      <td>0</td>\n",
       "      <td>1</td>\n",
       "    </tr>\n",
       "    <tr>\n",
       "      <th>6</th>\n",
       "      <td>1</td>\n",
       "      <td>0</td>\n",
       "      <td>1</td>\n",
       "      <td>0</td>\n",
       "      <td>1</td>\n",
       "      <td>0</td>\n",
       "      <td>0</td>\n",
       "      <td>0</td>\n",
       "      <td>1</td>\n",
       "    </tr>\n",
       "    <tr>\n",
       "      <th>7</th>\n",
       "      <td>1</td>\n",
       "      <td>0</td>\n",
       "      <td>0</td>\n",
       "      <td>1</td>\n",
       "      <td>1</td>\n",
       "      <td>0</td>\n",
       "      <td>0</td>\n",
       "      <td>0</td>\n",
       "      <td>0</td>\n",
       "    </tr>\n",
       "    <tr>\n",
       "      <th>8</th>\n",
       "      <td>1</td>\n",
       "      <td>0</td>\n",
       "      <td>0</td>\n",
       "      <td>0</td>\n",
       "      <td>1</td>\n",
       "      <td>0</td>\n",
       "      <td>0</td>\n",
       "      <td>0</td>\n",
       "      <td>1</td>\n",
       "    </tr>\n",
       "    <tr>\n",
       "      <th>9</th>\n",
       "      <td>0</td>\n",
       "      <td>1</td>\n",
       "      <td>1</td>\n",
       "      <td>1</td>\n",
       "      <td>0</td>\n",
       "      <td>1</td>\n",
       "      <td>1</td>\n",
       "      <td>1</td>\n",
       "      <td>0</td>\n",
       "    </tr>\n",
       "    <tr>\n",
       "      <th>10</th>\n",
       "      <td>0</td>\n",
       "      <td>1</td>\n",
       "      <td>1</td>\n",
       "      <td>0</td>\n",
       "      <td>0</td>\n",
       "      <td>1</td>\n",
       "      <td>1</td>\n",
       "      <td>1</td>\n",
       "      <td>0</td>\n",
       "    </tr>\n",
       "    <tr>\n",
       "      <th>11</th>\n",
       "      <td>0</td>\n",
       "      <td>1</td>\n",
       "      <td>0</td>\n",
       "      <td>1</td>\n",
       "      <td>0</td>\n",
       "      <td>1</td>\n",
       "      <td>1</td>\n",
       "      <td>1</td>\n",
       "      <td>0</td>\n",
       "    </tr>\n",
       "    <tr>\n",
       "      <th>12</th>\n",
       "      <td>0</td>\n",
       "      <td>1</td>\n",
       "      <td>0</td>\n",
       "      <td>0</td>\n",
       "      <td>0</td>\n",
       "      <td>1</td>\n",
       "      <td>1</td>\n",
       "      <td>1</td>\n",
       "      <td>0</td>\n",
       "    </tr>\n",
       "    <tr>\n",
       "      <th>13</th>\n",
       "      <td>0</td>\n",
       "      <td>0</td>\n",
       "      <td>1</td>\n",
       "      <td>1</td>\n",
       "      <td>1</td>\n",
       "      <td>1</td>\n",
       "      <td>1</td>\n",
       "      <td>1</td>\n",
       "      <td>1</td>\n",
       "    </tr>\n",
       "    <tr>\n",
       "      <th>14</th>\n",
       "      <td>0</td>\n",
       "      <td>0</td>\n",
       "      <td>1</td>\n",
       "      <td>0</td>\n",
       "      <td>1</td>\n",
       "      <td>1</td>\n",
       "      <td>1</td>\n",
       "      <td>1</td>\n",
       "      <td>1</td>\n",
       "    </tr>\n",
       "    <tr>\n",
       "      <th>15</th>\n",
       "      <td>0</td>\n",
       "      <td>0</td>\n",
       "      <td>0</td>\n",
       "      <td>1</td>\n",
       "      <td>1</td>\n",
       "      <td>1</td>\n",
       "      <td>1</td>\n",
       "      <td>1</td>\n",
       "      <td>0</td>\n",
       "    </tr>\n",
       "    <tr>\n",
       "      <th>16</th>\n",
       "      <td>0</td>\n",
       "      <td>0</td>\n",
       "      <td>0</td>\n",
       "      <td>0</td>\n",
       "      <td>1</td>\n",
       "      <td>1</td>\n",
       "      <td>1</td>\n",
       "      <td>1</td>\n",
       "      <td>1</td>\n",
       "    </tr>\n",
       "  </tbody>\n",
       "</table>\n",
       "</div>"
      ],
      "text/plain": [
       "    po  q  r  s  ~q  ~po  po=>q  ~q=>~po  ~q and (r or ~s)\n",
       "1    1  1  1  1   0    0      1        1                 0\n",
       "2    1  1  1  0   0    0      1        1                 0\n",
       "3    1  1  0  1   0    0      1        1                 0\n",
       "4    1  1  0  0   0    0      1        1                 0\n",
       "5    1  0  1  1   1    0      0        0                 1\n",
       "6    1  0  1  0   1    0      0        0                 1\n",
       "7    1  0  0  1   1    0      0        0                 0\n",
       "8    1  0  0  0   1    0      0        0                 1\n",
       "9    0  1  1  1   0    1      1        1                 0\n",
       "10   0  1  1  0   0    1      1        1                 0\n",
       "11   0  1  0  1   0    1      1        1                 0\n",
       "12   0  1  0  0   0    1      1        1                 0\n",
       "13   0  0  1  1   1    1      1        1                 1\n",
       "14   0  0  1  0   1    1      1        1                 1\n",
       "15   0  0  0  1   1    1      1        1                 0\n",
       "16   0  0  0  0   1    1      1        1                 1"
      ]
     },
     "execution_count": 16,
     "metadata": {},
     "output_type": "execute_result"
    }
   ],
   "source": [
    "t_table2 = Truths(['po', 'q','r','s'],['~q','~po','po=>q','~q=>~po','~q and (r or ~s)']).as_pandas()\n",
    "t_table2"
   ]
  },
  {
   "cell_type": "markdown",
   "id": "986ab06c",
   "metadata": {},
   "source": [
    "##### Could also make a series of functions which just do the logical operations..."
   ]
  },
  {
   "cell_type": "code",
   "execution_count": 6,
   "id": "e4fcb397",
   "metadata": {},
   "outputs": [],
   "source": [
    "# 'and' operation between two things (using integer notation):\n",
    "def f_and(p,q):\n",
    "    if p + q == 2:\n",
    "        return 1\n",
    "    else:\n",
    "        return 0\n",
    "    \n",
    "def f_or(p,q):\n",
    "    if p + q > 0:\n",
    "        return 1\n",
    "    else:\n",
    "        return 0\n",
    "    \n",
    "def f_not(p):\n",
    "    if p == 1:\n",
    "        return 0\n",
    "    else:\n",
    "        return 1\n",
    "    \n",
    "def f_cond(p,q):\n",
    "    if p == 0:\n",
    "        return 1\n",
    "    elif p == 1 and q == 1:\n",
    "        return 1\n",
    "    else:\n",
    "        return 0"
   ]
  },
  {
   "cell_type": "code",
   "execution_count": 30,
   "id": "02caa246",
   "metadata": {},
   "outputs": [
    {
     "data": {
      "text/plain": [
       "9.274000000000002e-28"
      ]
     },
     "execution_count": 30,
     "metadata": {},
     "output_type": "execute_result"
    }
   ],
   "source": [
    "# Constants\n",
    "mu_B = 9.274e-24  # Bohr magneton in J/T\n",
    "g = 2  # Landé g-factor approximation for an electron\n",
    "M = 1  # Magnetic quantum number\n",
    "B_earth = 5e-5  # Earth's magnetic field in Tesla\n",
    "\n",
    "# Calculating the Zeeman shift\n",
    "Delta_E = mu_B * g * M * B_earth\n",
    "\n",
    "Delta_E\n"
   ]
  },
  {
   "cell_type": "code",
   "execution_count": 28,
   "id": "451b7110",
   "metadata": {},
   "outputs": [],
   "source": [
    "delta = (1/4)-(1/9)"
   ]
  },
  {
   "cell_type": "code",
   "execution_count": 27,
   "id": "803d38c5",
   "metadata": {},
   "outputs": [
    {
     "data": {
      "text/plain": [
       "1.097371568525e-07"
      ]
     },
     "execution_count": 27,
     "metadata": {},
     "output_type": "execute_result"
    }
   ],
   "source": [
    "R = 1.097371568525e-07\n",
    "R"
   ]
  },
  {
   "cell_type": "code",
   "execution_count": 29,
   "id": "8299f2f6",
   "metadata": {},
   "outputs": [
    {
     "data": {
      "text/plain": [
       "1.5241271785069444e-08"
      ]
     },
     "execution_count": 29,
     "metadata": {},
     "output_type": "execute_result"
    }
   ],
   "source": [
    "R*delta"
   ]
  },
  {
   "cell_type": "code",
   "execution_count": 35,
   "id": "78672a7b",
   "metadata": {},
   "outputs": [],
   "source": [
    "import matplotlib.pyplot as plt\n",
    "import numpy as np"
   ]
  },
  {
   "cell_type": "code",
   "execution_count": 24,
   "id": "7400dcaa",
   "metadata": {},
   "outputs": [
    {
     "data": {
      "image/png": "[encoded data removed]",
      "text/plain": [
       "<Figure size 640x480 with 1 Axes>"
      ]
     },
     "metadata": {},
     "output_type": "display_data"
    }
   ],
   "source": [
    "H = [656.28,(656.28-486.13)/2 + 486.13,486.13,(486.13-434.05)/2 + 434.05,434.05,(434.05-410.14)/2 + 410.14,410.14]\n",
    "He = [656.01,541.16,485.93,454.16,433.87,419.99,410.00]\n",
    "\n",
    "plt.plot(H, alpha=.5)\n",
    "plt.plot(He, alpha=.5)\n",
    "plt.show()"
   ]
  },
  {
   "cell_type": "code",
   "execution_count": 73,
   "id": "0ce682d8",
   "metadata": {},
   "outputs": [],
   "source": [
    "n = list(np.arange(1,10))\n",
    "trans = []\n",
    "comp = []\n",
    "\n",
    "for i in n:\n",
    "    trans.append(1/i**2 - 1/(i+1)**2)\n",
    "    comp.append(1/i**3)"
   ]
  },
  {
   "cell_type": "code",
   "execution_count": 74,
   "id": "ab4316bc",
   "metadata": {},
   "outputs": [
    {
     "data": {
      "image/png": "[encoded data removed]",
      "text/plain": [
       "<Figure size 640x480 with 1 Axes>"
      ]
     },
     "metadata": {},
     "output_type": "display_data"
    },
    {
     "name": "stdout",
     "output_type": "stream",
     "text": [
      "-0.25 0.002739984882842026\n"
     ]
    }
   ],
   "source": [
    "plt.plot(trans)\n",
    "plt.plot(comp)\n",
    "plt.show()\n",
    "print(trans[0]-comp[0],trans[5]-comp[5])"
   ]
  },
  {
   "cell_type": "code",
   "execution_count": 79,
   "id": "e8e3dcb5",
   "metadata": {},
   "outputs": [
    {
     "data": {
      "image/png": "[encoded data removed]",
      "text/plain": [
       "<Figure size 640x480 with 1 Axes>"
      ]
     },
     "metadata": {},
     "output_type": "display_data"
    },
    {
     "name": "stdout",
     "output_type": "stream",
     "text": [
      "0.0007355371900826446 0.00024189814814814815\n"
     ]
    }
   ],
   "source": [
    "n = list(np.arange(10,100))\n",
    "trans = []\n",
    "comp = []\n",
    "\n",
    "for i in n:\n",
    "    trans.append(1/i**2 - 1/(i+1)**2)\n",
    "    comp.append(1/i**3)\n",
    "    \n",
    "plt.plot(trans)\n",
    "plt.plot(comp)\n",
    "plt.show()\n",
    "print(trans[0]-comp[0],trans[5]-comp[5])"
   ]
  },
  {
   "cell_type": "code",
   "execution_count": 81,
   "id": "57474f9e",
   "metadata": {},
   "outputs": [
    {
     "data": {
      "image/png": "[encoded data removed]",
      "text/plain": [
       "<Figure size 640x480 with 1 Axes>"
      ]
     },
     "metadata": {},
     "output_type": "display_data"
    },
    {
     "name": "stdout",
     "output_type": "stream",
     "text": [
      "9.997000399947005e-13 9.982021378969027e-13\n"
     ]
    }
   ],
   "source": [
    "n = list(np.arange(10000,12000))\n",
    "trans = []\n",
    "comp = []\n",
    "\n",
    "for i in n:\n",
    "    trans.append(1/i**2 - 1/(i+1)**2)\n",
    "    comp.append(1/i**3)\n",
    "    \n",
    "plt.plot(trans)\n",
    "plt.plot(comp)\n",
    "plt.show()\n",
    "print(trans[0]-comp[0],trans[5]-comp[5])"
   ]
  }
 ],
 "metadata": {
  "kernelspec": {
   "display_name": "Python 3 (ipykernel)",
   "language": "python",
   "name": "python3"
  },
  "language_info": {
   "codemirror_mode": {
    "name": "ipython",
    "version": 3
   },
   "file_extension": ".py",
   "mimetype": "text/x-python",
   "name": "python",
   "nbconvert_exporter": "python",
   "pygments_lexer": "ipython3",
   "version": "3.9.7"
  }
 },
 "nbformat": 4,
 "nbformat_minor": 5
}

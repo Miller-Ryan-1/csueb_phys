{
 "cells": [
  {
   "cell_type": "markdown",
   "id": "68205fd2",
   "metadata": {},
   "source": [
    "# Heat Equation Solvers\n",
    "\n",
    "##### Plan of Attack\n",
    "1. Create Explicit solver algorithm and ensure accurate solutions [DONE]\n",
    "2. Create variable for function with sympy compatibility (!Uneccessary!) [DONE - ELSEWHERE]\n",
    "3. Create an implicit solver algorithm  [DONE]\n",
    "4. Create Crank-Nicolson algorithm [DONE]\n",
    "5. Add in fourier analysis [ISSUES]\n",
    "6. Use library methods [HAVEN'T FOUND ANY, SO DONE]\n",
    "7. Add in updating graph to show heat equation working (\"video\") [DONE]\n",
    "8. 2D heat equation [TODO]\n",
    "9. Clean up and refactor (use numpy matric manip for explicit), create standalong .py algorithms file [TODO]\n",
    "\n",
    "##### Next Steps (for future notebooks)\n",
    "1. 3D Heat Equation?\n",
    "2. Expand to other (linear) wave/wavelike phenomenon\n",
    "3. Expore nonlinear waves"
   ]
  },
  {
   "cell_type": "markdown",
   "id": "dc2b5901",
   "metadata": {},
   "source": [
    "-----"
   ]
  },
  {
   "cell_type": "markdown",
   "id": "a8952a5d",
   "metadata": {},
   "source": [
    "## 1-D Heat Equation (2nd Order PDE):\n",
    "# $u_{t}$ = $\\gamma$$u_{xx}$ =\n",
    "# $\\frac{\\partial{u}}{\\partial{t}}$ = $\\gamma$$\\frac{\\partial^2{u}}{\\partial{x}^2}$\n",
    "#### where $\\gamma$ = diffusion coefficient (also given as 'D')"
   ]
  },
  {
   "cell_type": "markdown",
   "id": "a4632c1f",
   "metadata": {},
   "source": [
    "## Section I: Create base equation and check"
   ]
  },
  {
   "cell_type": "markdown",
   "id": "0dafaa9f",
   "metadata": {},
   "source": [
    "### Step 0: Imports"
   ]
  },
  {
   "cell_type": "code",
   "execution_count": null,
   "id": "02e3744f",
   "metadata": {},
   "outputs": [],
   "source": [
    "import numpy as np\n",
    "import pandas as pd\n",
    "import matplotlib.pyplot as plt\n",
    "import time\n",
    "from IPython.display import display, clear_output\n",
    "\n",
    "import sympy as sp # Not needed but imported for potential future use"
   ]
  },
  {
   "cell_type": "markdown",
   "id": "963decd0",
   "metadata": {},
   "source": [
    "### Step 1: Define Variables"
   ]
  },
  {
   "cell_type": "code",
   "execution_count": null,
   "id": "b3447e89",
   "metadata": {},
   "outputs": [],
   "source": [
    "# Givens:\n",
    "D = 5 # diffusion constant (gamma above)\n",
    "dx = .1 # Discrete x step\n",
    "L = 3 # Length of 'rod'\n",
    "\n",
    "# Derived:\n",
    "dt = dx**2 / (2*D) # dt = .001, should be equal to or less than dx^2/(2*D) for non blowup requirements\n",
    "mu = D * (dt/dx**2) # Necessary Coefficient\n",
    "Nx = int(L/dx)\n",
    "\n",
    "#Can also use your own dx:\n",
    "# N = *choose an integer*\n",
    "# dx = L/N\n",
    "\n",
    "print('N = ',Nx)"
   ]
  },
  {
   "cell_type": "markdown",
   "id": "1cb9e95d",
   "metadata": {},
   "source": [
    "### Step 2: Codify Initial Conditions"
   ]
  },
  {
   "cell_type": "code",
   "execution_count": null,
   "id": "b865a6ce",
   "metadata": {},
   "outputs": [],
   "source": [
    "# f(x) = u(t=0,x)\n",
    "def f(x):\n",
    "    return x * (x - 1) * (x - 3)\n",
    "\n",
    "# Initialize Array\n",
    "Ui = []\n",
    "\n",
    "# Create holder for first row of array = the initial conditions\n",
    "u_t_x_0 = []\n",
    "\n",
    "# Populate holder with Initial Conditions, need N+2 to include both x = 0 and x = L = 3\n",
    "for i in range(Nx+1):\n",
    "    n = i * dx\n",
    "    u_t_x_0.append(f(n))\n",
    "Ui.append(u_t_x_0)\n",
    "Ui"
   ]
  },
  {
   "cell_type": "markdown",
   "id": "79409347",
   "metadata": {},
   "source": [
    "### Step 3: Iterate Using Heat Equation (diffusion equation)"
   ]
  },
  {
   "cell_type": "markdown",
   "id": "5eed9670",
   "metadata": {},
   "source": [
    "# !-*[TODO] modify the numbers here such that all three methods have similar real time intevals.  for example modify t below such that component steps of overall solution can be directly compared to other methods*-!"
   ]
  },
  {
   "cell_type": "code",
   "execution_count": null,
   "id": "cd404466",
   "metadata": {},
   "outputs": [],
   "source": [
    "t = 1000 # Time steps to examine\n",
    "\n",
    "# Run this loop the number of time steps you want to analyze ('_' is a placeholder for loop count)\n",
    "for _ in range(t):\n",
    "\n",
    "    # First, create empty time step - basically initize a list of u(t,x) to fill\n",
    "    u_t_x = []\n",
    "    # Now grab the last time step line (the value of u at each x for the previous t)\n",
    "    u_line = Ui[-1]\n",
    "    \n",
    "    for i in range(1,Nx):\n",
    "        # Equation 5.14 (slightly modified) to calculate u at each x value:\n",
    "        u = u_line[i] + mu*(u_line[i+1] + u_line[i-1] - 2*u_line[i])\n",
    "        # Append this value to the time step line\n",
    "        u_t_x.append(u)\n",
    "\n",
    "    # Append the first and last value with boundary conditions (0 in this case)\n",
    "    u_t_x.insert(0,0)\n",
    "    u_t_x.insert(len(u_line),0)\n",
    "\n",
    "    # Now append the full solutions matrix\n",
    "    Ui.append(u_t_x) "
   ]
  },
  {
   "cell_type": "code",
   "execution_count": null,
   "id": "f1dc88c6",
   "metadata": {},
   "outputs": [],
   "source": [
    "# Display Solutions as a dataframe (for personal convenience)\n",
    "df = pd.DataFrame(Ui).round(3)\n",
    "df"
   ]
  },
  {
   "cell_type": "code",
   "execution_count": null,
   "id": "ff9832e7",
   "metadata": {
    "scrolled": false
   },
   "outputs": [],
   "source": [
    "# Plotting t = 0 to t = 1000, in 20dt increments\n",
    "for i in np.arange(0,len(Ui),20):\n",
    "    plt.plot(Ui[i])\n",
    "    plt.xlabel('x')\n",
    "    plt.ylabel('T')\n",
    "    plt.text(0,-1.75,\"Lines represent time values\")\n",
    "plt.show()"
   ]
  },
  {
   "cell_type": "code",
   "execution_count": null,
   "id": "91e542db",
   "metadata": {},
   "outputs": [],
   "source": [
    "def heat_plotter(U, steps):\n",
    "\n",
    "    fig, ax = plt.subplots(figsize=(10, 6))\n",
    "    ax.set_xlabel('x')  # Set x-axis label\n",
    "    ax.set_ylabel('T')  # Set y-axis label\n",
    "\n",
    "    # Set the y-axis limits\n",
    "    y_min = min([min(u) for u in U]) - 0.5  # Find the minimum y-value in U with some buffer\n",
    "    y_max = max([max(u) for u in U]) + 0.5  # Find the maximum y-value in U with some buffer\n",
    "    ax.set_ylim(y_min, y_max)\n",
    "\n",
    "    lines = []  # List to store line objects\n",
    "    alpha_decay = .5  # Factor to reduce the alpha of previous lines\n",
    "\n",
    "    plt.show()\n",
    "\n",
    "    for i in np.arange(0, len(U), len(U)//steps):\n",
    "        # Update the alpha values of existing lines\n",
    "        for line in lines:\n",
    "            line.set_alpha(line.get_alpha() * alpha_decay)\n",
    "\n",
    "        # Add new line\n",
    "        new_line, = ax.plot(U[i], color='red', alpha=1.0)  # Start with full opacity\n",
    "        lines.append(new_line)  # Store the new line object\n",
    "        ax.set_title(f\"Plot at time = {i/(len(U)-1)}s\")  # Update the title with the current step\n",
    "\n",
    "        # Handling plot display\n",
    "        clear_output(wait=True)  # Clear the previous plot\n",
    "        display(fig)  # Display the current figure\n",
    "\n",
    "        time.sleep(0.25)  # Pause for half a second before the next update"
   ]
  },
  {
   "cell_type": "code",
   "execution_count": null,
   "id": "8cf12437",
   "metadata": {},
   "outputs": [],
   "source": [
    "heat_plotter(Ui,20)"
   ]
  },
  {
   "cell_type": "markdown",
   "id": "3cc2bc05",
   "metadata": {},
   "source": [
    "### Step 4: Create function"
   ]
  },
  {
   "cell_type": "code",
   "execution_count": null,
   "id": "ccd03947",
   "metadata": {},
   "outputs": [],
   "source": [
    "def heat_1d(f_u_0_x, D, dx, L, f_u_t_0, f_u_t_L, t_max, dt_mod=1):\n",
    "    '''\n",
    "    This function takes in an initial temperature distribution, along with boundary conditions,\n",
    "    and emits the changes to the temperature distribution based on finite difference analysis.\n",
    "    \n",
    "    NOTE 1: This function is NOT optimized for numpy use in Python.  It works well for simple problems, but\n",
    "    needs to be updated to use Numpy arrays for large datasets.\n",
    "    \n",
    "    Parameters:    \n",
    "    f = the function governing the initial heat condition in the rod, must be a def f() [function]\n",
    "    D = Heat diffusion constant (aka gamma) [float]\n",
    "    dx = distance between analysis nodes [float]\n",
    "    L = length of rod [float]\n",
    "    u_t_0 = Boundary condition at zero [float]\n",
    "    u_t_L = Boundary Condition at L [float]\n",
    "    t_max = max time [integer or float]\n",
    "    dt_mod = (optional) alter this to change then impact of the time interval in caase solutions are unstable\n",
    "    \n",
    "    Returns:\n",
    "    U = array containing the temperature distributions across length L at time step t=0 to t=t_max\n",
    "    '''\n",
    "    \n",
    "    # First set the time step such that dt </= dx**2/(2*D); this determines mu:\n",
    "    dt = dx**2 / (2*D) # dt = .001, should be equal to or less than dx^2/(2*D) for stability requirements\n",
    "    mu = D * (dt/dx**2) * dt_mod # Related to dt above, must be </= to .5\n",
    "    \n",
    "    # Generate x nodes across rod:\n",
    "    Nx = int(L/dx)\n",
    "    \n",
    "    # Initialize Array:\n",
    "    U = []\n",
    "\n",
    "    # Create holder for first row of array = the initial temperature distribution:\n",
    "    u_t_x_0 = []\n",
    "\n",
    "    # Populate holder with initial distribution, need N+1 to include x = 3\n",
    "    for i in range(Nx+1):\n",
    "        # Normalize the step\n",
    "        n = i*dx\n",
    "        \n",
    "        # Solve the initial value equation for each node:\n",
    "        # This try/except statement is put in in case the initial condition is a constant:\n",
    "        try:\n",
    "            f_n = f_u_0_x(n)\n",
    "        except:\n",
    "            f_n = f_u_0_x\n",
    "            \n",
    "        u_t_x_0.append(f_n)\n",
    "    \n",
    "    # Replace initial distribution boundary conditions with, well, boundary conditions\n",
    "    try:\n",
    "        u_t_x_0[0] = f_u_t_0(0)\n",
    "    except:\n",
    "        u_t_x_0[0] = f_u_t_0\n",
    "            \n",
    "    try:\n",
    "        u_t_x_0[-1] = f_u_t_L(0)\n",
    "    except:\n",
    "        u_t_x_0[-1] = f_u_t_L\n",
    "    \n",
    "    # Add this first row to the Array to return\n",
    "    U.append(u_t_x_0)\n",
    "\n",
    "    # Run this loop the number of time steps you want to analyze (note: '_' is a placeholder for loop count)\n",
    "    for t in range(t_max):\n",
    "\n",
    "        # First, create empty time step - basically initize an empty list to fill with u(t,x) :\n",
    "        u_t_x = []\n",
    "        \n",
    "        # Now grab the previous time step distribution (the value of u at each x for the previous t):\n",
    "        u_line = U[-1]\n",
    "\n",
    "        # Now loop through all 'inner' values, that is 0 < x < L, requiring a range of 1 to N:\n",
    "        for i in range(1,Nx):\n",
    "            # Using a modified equation 5.14 to calculate u at each x value:\n",
    "            u = u_line[i] + mu*(u_line[i+1] + u_line[i-1] - 2*u_line[i])\n",
    "            # Append this value to the time step line:\n",
    "            u_t_x.append(u)\n",
    "\n",
    "        # Append the first and last values with the boundary conditions.  Use try and except in case constant\n",
    "        try:\n",
    "            a = f_u_t_0(t)\n",
    "        except:\n",
    "            a = f_u_t_0\n",
    "            \n",
    "        try:\n",
    "            b = f_u_t_L(t)\n",
    "        except:\n",
    "            b = f_u_t_L\n",
    "        \n",
    "        u_t_x.insert(0,a)\n",
    "        u_t_x.insert(len(u_line),b)\n",
    "\n",
    "        # Now append the full solutions matrix with time step distribution:\n",
    "        U.append(u_t_x) \n",
    "\n",
    "    return U"
   ]
  },
  {
   "cell_type": "markdown",
   "id": "55ee333b",
   "metadata": {},
   "source": [
    "Example of using the function with a boundary condition that is itself a function:"
   ]
  },
  {
   "cell_type": "code",
   "execution_count": null,
   "id": "1bfcab3f",
   "metadata": {},
   "outputs": [],
   "source": [
    "f = 20 # Function is constant\n",
    "D = 4.25e-6\n",
    "dx = .0001\n",
    "L = .01\n",
    "u_t_0 = 50\n",
    "#u_t_L = 0  ! - Commented this out since we are replacing it with the function below\n",
    "\n",
    "def u_t_L(t):\n",
    "    return t/10\n",
    "\n",
    "t_max = 1000\n",
    "\n",
    "U = heat_1d(f, D, dx, L, u_t_0, u_t_L, t_max)"
   ]
  },
  {
   "cell_type": "code",
   "execution_count": null,
   "id": "7835f431",
   "metadata": {},
   "outputs": [],
   "source": [
    "df = pd.DataFrame(U).round(2)\n",
    "df"
   ]
  },
  {
   "cell_type": "code",
   "execution_count": null,
   "id": "0de23fbd",
   "metadata": {
    "scrolled": false
   },
   "outputs": [],
   "source": [
    "plt.figure(figsize = (12,12))\n",
    "for i in np.arange(0,1000,50):\n",
    "    plt.plot(U[i], label = f't = {round(i*dt,2)}s')\n",
    "plt.legend()\n",
    "plt.xlabel('x')\n",
    "plt.ylabel('T')\n",
    "plt.text(20,80,'Left boundary = 50 (constant); Right boundary = t/100')\n",
    "plt.text(20,76,'Initial conditions = 20 (constant)')\n",
    "plt.show()"
   ]
  },
  {
   "cell_type": "code",
   "execution_count": null,
   "id": "260854e9",
   "metadata": {},
   "outputs": [],
   "source": [
    "heat_plotter(U,20)"
   ]
  },
  {
   "cell_type": "markdown",
   "id": "a376731e",
   "metadata": {},
   "source": [
    "#### Additional Example - Has different initial condition regimes:"
   ]
  },
  {
   "cell_type": "code",
   "execution_count": null,
   "id": "df3a9a4a",
   "metadata": {},
   "outputs": [],
   "source": [
    "def f3(x):\n",
    "    if x < (1/3):\n",
    "        return 2*abs(x-(1/6))-(1/3)\n",
    "    elif x < (2/3):\n",
    "        return 0\n",
    "    else:\n",
    "        return (1/2)-3*abs(x-(5/6))\n",
    "    \n",
    "D = 1\n",
    "dx = .05\n",
    "L = 1\n",
    "u_t_0 = 0\n",
    "u_t_L = 0\n",
    "t_max = 1000\n",
    "\n",
    "U3 = heat_1d(f3, D, dx, L, u_t_0, u_t_L, t_max, dt_mod=1)"
   ]
  },
  {
   "cell_type": "code",
   "execution_count": null,
   "id": "922c53c1",
   "metadata": {},
   "outputs": [],
   "source": [
    "df = pd.DataFrame(U3).round(2)\n",
    "df"
   ]
  },
  {
   "cell_type": "code",
   "execution_count": null,
   "id": "a4cc8ecf",
   "metadata": {},
   "outputs": [],
   "source": [
    "for i in [0,10,100,400, 1000]:\n",
    "    plt.plot(U3[i], label = f't = {round(i*dt,2)}s')\n",
    "plt.legend()\n",
    "plt.show()"
   ]
  },
  {
   "cell_type": "code",
   "execution_count": null,
   "id": "aebc12f0",
   "metadata": {},
   "outputs": [],
   "source": [
    "heat_plotter(U3,20)"
   ]
  },
  {
   "cell_type": "markdown",
   "id": "b81e865a",
   "metadata": {},
   "source": [
    "## Section II: Implicit Method"
   ]
  },
  {
   "cell_type": "code",
   "execution_count": null,
   "id": "83b2d2eb",
   "metadata": {},
   "outputs": [],
   "source": [
    "# Boundary Condition Functions (Direchelet - time domain)\n",
    "\n",
    "def u_t_0(t):\n",
    "    '''\n",
    "    Assigns the initial value for the 0-boundary.\n",
    "    If the boundary is a constant value, leave function as-is.\n",
    "    If boundary is a function of t, replace return value with function.\n",
    "    \n",
    "    Parameters: t = time [Float]    \n",
    "    '''\n",
    "    return 0\n",
    "\n",
    "def u_t_L(t):\n",
    "    '''\n",
    "    Assigns the initial value for the L-boundary.\n",
    "    If the boundary is a constant value, leave function as-is.\n",
    "    If boundary is a function of t, replace return value with function.\n",
    "    \n",
    "    Parameters: t = time [Float] \n",
    "    '''\n",
    "    return 0"
   ]
  },
  {
   "cell_type": "code",
   "execution_count": null,
   "id": "725a0f65",
   "metadata": {},
   "outputs": [],
   "source": [
    "# Initial Condition Functions\n",
    "\n",
    "def u_0_x(x):\n",
    "    '''\n",
    "    Assigns the initial values for u (non-boundary points).\n",
    "    If the initial value is a constant, leave function as-is.\n",
    "    If the initial value is a function of x, replace return value with function.\n",
    "    \n",
    "    Parameters: t = time [Float] \n",
    "    '''\n",
    "    return x * (x - 1) * (x - 3)"
   ]
  },
  {
   "cell_type": "code",
   "execution_count": null,
   "id": "5d2cd9a8",
   "metadata": {},
   "outputs": [],
   "source": [
    "# Assign length\n",
    "L = 3\n",
    "t_max = 5\n",
    "\n",
    "# Grid spacing\n",
    "dx = .1\n",
    "dt = .1 # !-Note: For explicit needs to be less than dt**2/(2*D), implicit has no such restrictions for stability\n",
    "\n",
    "# Number of dx nodes, including 0 node\n",
    "Nx = int(L/dx) + 1\n",
    "\n",
    "# Discretize x and t\n",
    "x = np.arange(0,L+dx,dx)\n",
    "t = np.arange(0,t_max+dt,dt)\n",
    "\n",
    "# Create return array (n x m matrix)\n",
    "n = len(x)\n",
    "m = len(t)\n",
    "T = np.zeros((m,n))"
   ]
  },
  {
   "cell_type": "code",
   "execution_count": null,
   "id": "e0d05c04",
   "metadata": {},
   "outputs": [],
   "source": [
    "# Set boundary values\n",
    "T[:,0] = u_t_0(0)\n",
    "T[:,-1] = u_t_L(0)"
   ]
  },
  {
   "cell_type": "code",
   "execution_count": null,
   "id": "334f7eb3",
   "metadata": {},
   "outputs": [],
   "source": [
    "# Derive the Lambda, as lambo, because lambos are FAAAAAST\n",
    "lambo = D * dt/dx**2"
   ]
  },
  {
   "cell_type": "code",
   "execution_count": null,
   "id": "8bdc1c95",
   "metadata": {},
   "outputs": [],
   "source": [
    "# LHS = A: a tridiagnonal matrix\n",
    "A = np.diag([1+2*lambo]*(Nx-2)) + np.diag([-lambo]*(Nx-3),1) + np.diag([-lambo]*(Nx-3),-1)\n",
    "len(A[0])"
   ]
  },
  {
   "cell_type": "code",
   "execution_count": null,
   "id": "17aa6408",
   "metadata": {},
   "outputs": [],
   "source": [
    "# Boundary Condition RHS"
   ]
  },
  {
   "cell_type": "code",
   "execution_count": null,
   "id": "a8f5e3ea",
   "metadata": {},
   "outputs": [],
   "source": [
    "for i in range(0,n-1):\n",
    "    b = T[i,1:-1].copy() #Need the copy here!\n",
    "    b[0] = b[0] + lambo*T[i+1,0]\n",
    "    b[-1] = b[-1] + lambo*T[i+1,-1]\n",
    "    sol = np.linalg.solve(A,b)\n",
    "    T[i+1,1:-1] = sol"
   ]
  },
  {
   "cell_type": "code",
   "execution_count": null,
   "id": "66591207",
   "metadata": {},
   "outputs": [],
   "source": [
    "pd.DataFrame(T)"
   ]
  },
  {
   "cell_type": "code",
   "execution_count": null,
   "id": "20c17420",
   "metadata": {},
   "outputs": [],
   "source": [
    "for i in np.arange(0,len(T)):\n",
    "    plt.plot(T[i])\n",
    "plt.show()"
   ]
  },
  {
   "cell_type": "code",
   "execution_count": null,
   "id": "38299512",
   "metadata": {},
   "outputs": [],
   "source": [
    "heat_plotter(T,20)"
   ]
  },
  {
   "cell_type": "markdown",
   "id": "59de2ed3",
   "metadata": {},
   "source": [
    "##### Compare with Ui with 1000 time steps"
   ]
  },
  {
   "cell_type": "code",
   "execution_count": null,
   "id": "e1d63333",
   "metadata": {},
   "outputs": [],
   "source": [
    "len(Ui)"
   ]
  },
  {
   "cell_type": "code",
   "execution_count": null,
   "id": "d03df376",
   "metadata": {},
   "outputs": [],
   "source": [
    "for i in np.arange(0,len(Ui),1000//31):\n",
    "    plt.plot(Ui[i])\n",
    "plt.show()"
   ]
  },
  {
   "cell_type": "markdown",
   "id": "281bf7d0",
   "metadata": {},
   "source": [
    "## Section III: Crank-Nicholson Method"
   ]
  },
  {
   "cell_type": "code",
   "execution_count": null,
   "id": "8c9bdf9e",
   "metadata": {},
   "outputs": [],
   "source": [
    "# Assign length\n",
    "L = 3\n",
    "\n",
    "# Grid spacing\n",
    "dx = .1\n",
    "dt = .1 # !-Note: For explicit needs to be less than dt**2/(2*D), implicit has no such restrictions for stability\n",
    "\n",
    "# Number of dx nodes, including 0 node\n",
    "Nx = int(L/dx) + 1\n",
    "\n",
    "# Discretize x and t\n",
    "x = np.arange(0,L+dx,dx)\n",
    "t = np.arange(0,L+dt,dt)\n",
    "\n",
    "# Create return array (n x m matrix)\n",
    "n = len(x)\n",
    "m = len(t)\n",
    "Tcr = np.zeros((n,m))\n",
    "\n",
    "# Set initial conditions\n",
    "Tcr[0,:] = u_0_x(x)\n",
    "\n",
    "# Set boundary values\n",
    "Tcr[:,0] = u_t_0(0)\n",
    "Tcr[:,-1] = u_t_L(0)\n",
    "\n",
    "# Derive the Lambda\n",
    "lambo = D * dt/dx**2\n",
    "\n",
    "# LHS = A: a tridiagnonal matrix\n",
    "A = np.diag([2+2*lambo]*(Nx-2)) + np.diag([-lambo]*(Nx-3),1) + np.diag([-lambo]*(Nx-3),-1)"
   ]
  },
  {
   "cell_type": "code",
   "execution_count": null,
   "id": "d9a452be",
   "metadata": {},
   "outputs": [],
   "source": [
    "# RHS tridagonal matrix\n",
    "B = np.diag([2-2*lambo]*(Nx-2)) + np.diag([lambo]*(Nx-3),1) + np.diag([lambo]*(Nx-3),-1)"
   ]
  },
  {
   "cell_type": "code",
   "execution_count": null,
   "id": "0947d5d9",
   "metadata": {},
   "outputs": [],
   "source": [
    "for i in range(0,n-1):\n",
    "    b = Tcr[i,1:-1].copy() #Need the copy here!\n",
    "    b[0] = b[0] + lambo*Tcr[i+1,0]\n",
    "    b[-1] = b[-1] + lambo*Tcr[i+1,-1]\n",
    "    sol = np.linalg.solve(A,b)\n",
    "    Tcr[i+1,1:-1] = sol\n",
    "Tcr"
   ]
  },
  {
   "cell_type": "code",
   "execution_count": null,
   "id": "2364ca4a",
   "metadata": {},
   "outputs": [],
   "source": [
    "pd.DataFrame(Tcr).round(3)"
   ]
  },
  {
   "cell_type": "code",
   "execution_count": null,
   "id": "9d710b55",
   "metadata": {},
   "outputs": [],
   "source": [
    "for i in np.arange(0,len(Tcr)):\n",
    "    plt.plot(Tcr[i])\n",
    "plt.show()"
   ]
  },
  {
   "cell_type": "code",
   "execution_count": null,
   "id": "bd7f93a7",
   "metadata": {},
   "outputs": [],
   "source": [
    "heat_plotter(Tcr,20)"
   ]
  },
  {
   "cell_type": "markdown",
   "id": "be34b33b",
   "metadata": {},
   "source": [
    "The solution seems to converge to zero much faster than the other methods."
   ]
  },
  {
   "cell_type": "code",
   "execution_count": null,
   "id": "60a1b1c1",
   "metadata": {},
   "outputs": [],
   "source": [
    "fig, axs = plt.subplots(3)\n",
    "fig.suptitle('Vertically stacked subplots')\n",
    "plt.figure(figsize=(12,120))\n",
    "\n",
    "for i in np.arange(0,len(Ui),20):\n",
    "    axs[0].plot(Ui[i])\n",
    "for j in np.arange(0,len(T)):\n",
    "    axs[1].plot(T[j])\n",
    "for k in np.arange(0,len(Tcr)):\n",
    "    axs[2].plot(Tcr[k])\n",
    "plt.show()"
   ]
  },
  {
   "cell_type": "markdown",
   "id": "c9fd72bf",
   "metadata": {},
   "source": [
    "## Section IV: Fourier Analysis PDE Solver Method"
   ]
  },
  {
   "cell_type": "markdown",
   "id": "888a2e2d",
   "metadata": {},
   "source": [
    "### Below is initial work, having issues with boundary conditions:"
   ]
  },
  {
   "cell_type": "code",
   "execution_count": null,
   "id": "b84fbf58",
   "metadata": {},
   "outputs": [],
   "source": [
    "from scipy.integrate import odeint\n",
    "\n",
    "a = 1\n",
    "L = 3\n",
    "Nx = 31\n",
    "dx = L/Nx\n",
    "x = np.arange(0,L,dx)\n",
    "k = 2*np.pi*np.fft.fftfreq(Nx,d=dx)\n",
    "\n",
    "x = np.linspace(0,3,31)\n",
    "u0 = x*(x-1)*(x-3)\n",
    "\n",
    "dt = 0.001\n",
    "t = np.arange(0,1000*dt,dt)\n",
    "\n",
    "def rhsHeat(u,t,k,a):\n",
    "    uhat = np.fft.fft(u)\n",
    "    dd_uhat = -np.power(k,2)*uhat\n",
    "    dd_u = np.fft.ifft(dd_uhat)\n",
    "    du_dt = a**2 * dd_u\n",
    "    return du_dt.real\n",
    "\n",
    "u = odeint(rhsHeat,u0,t,args=(k,a))"
   ]
  },
  {
   "cell_type": "code",
   "execution_count": null,
   "id": "2aa61ff0",
   "metadata": {},
   "outputs": [],
   "source": [
    "for i in np.arange(0,len(u),100):\n",
    "    plt.plot(u[i])\n",
    "plt.show()"
   ]
  },
  {
   "cell_type": "markdown",
   "id": "50ce6a05",
   "metadata": {},
   "source": [
    "# Section V: Functions Testing"
   ]
  },
  {
   "cell_type": "code",
   "execution_count": 1,
   "id": "a9486675",
   "metadata": {},
   "outputs": [],
   "source": [
    "import heat_equations as h_e"
   ]
  },
  {
   "cell_type": "code",
   "execution_count": 2,
   "id": "eeec52d9",
   "metadata": {},
   "outputs": [],
   "source": [
    "# Must create input boundary functions\n",
    "def f_u_0_x(x):\n",
    "    return x*(x-1)*(x-3)\n",
    "\n",
    "def f_u_t_0(t):\n",
    "    return 0\n",
    "\n",
    "def f_u_t_L(t):\n",
    "    return 0"
   ]
  },
  {
   "cell_type": "code",
   "execution_count": 3,
   "id": "063e8a61",
   "metadata": {},
   "outputs": [],
   "source": [
    "D = 5\n",
    "L = 3\n",
    "dx = .1\n",
    "dt = .1\n",
    "t_max = 3"
   ]
  },
  {
   "cell_type": "code",
   "execution_count": 4,
   "id": "7a5b9dd3",
   "metadata": {},
   "outputs": [
    {
     "data": {
      "image/png": "[encoded data removed]",
      "text/plain": [
       "<Figure size 1000x600 with 1 Axes>"
      ]
     },
     "metadata": {},
     "output_type": "display_data"
    }
   ],
   "source": [
    "Te = h_e.heat_1d_explicit(f_u_0_x, D, dx, L, f_u_t_0, f_u_t_L, t_max, dt_mod=1)\n",
    "h_e.heat_plotter(Te,t_max,10)"
   ]
  },
  {
   "cell_type": "code",
   "execution_count": 5,
   "id": "82933cca",
   "metadata": {},
   "outputs": [
    {
     "data": {
      "image/png": "[encoded data removed]",
      "text/plain": [
       "<Figure size 1000x600 with 1 Axes>"
      ]
     },
     "metadata": {},
     "output_type": "display_data"
    }
   ],
   "source": [
    "Ti = h_e.heat_1d_implicit(f_u_0_x, D, dx, dt, L, f_u_t_0, f_u_t_L, t_max)\n",
    "h_e.heat_plotter(Ti,t_max,10)"
   ]
  },
  {
   "cell_type": "code",
   "execution_count": 6,
   "id": "da7ef23d",
   "metadata": {},
   "outputs": [
    {
     "data": {
      "image/png": "[encoded data removed]",
      "text/plain": [
       "<Figure size 1000x600 with 1 Axes>"
      ]
     },
     "metadata": {},
     "output_type": "display_data"
    }
   ],
   "source": [
    "Tcr = h_e.crank_nicholson_1d(f_u_0_x, D, dx, dt, L, f_u_t_0, f_u_t_L, t_max)\n",
    "h_e.heat_plotter(Tcr, t_max, 10)"
   ]
  }
 ],
 "metadata": {
  "kernelspec": {
   "display_name": "Python 3 (ipykernel)",
   "language": "python",
   "name": "python3"
  },
  "language_info": {
   "codemirror_mode": {
    "name": "ipython",
    "version": 3
   },
   "file_extension": ".py",
   "mimetype": "text/x-python",
   "name": "python",
   "nbconvert_exporter": "python",
   "pygments_lexer": "ipython3",
   "version": "3.9.7"
  }
 },
 "nbformat": 4,
 "nbformat_minor": 5
}

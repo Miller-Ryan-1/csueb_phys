{
 "cells": [
  {
   "cell_type": "markdown",
   "id": "9e5ebdbb",
   "metadata": {},
   "source": [
    "# Burgers Equation on FLRW Spacetimes\n",
    "## A Numerical Approach"
   ]
  },
  {
   "cell_type": "markdown",
   "id": "f99badbf",
   "metadata": {},
   "source": [
    "===== ===== ===== ===== =====\n",
    "\n",
    "General Burgers: $u_{t} + u\\cdot u_{x} - \\alpha\\cdot u_{xx} = 0$, *where $\\alpha =$ diffusion coefficient, and $\\alpha = 0$ for Inviscid Burgers*.  Thus,\n",
    "\n",
    "$u_{t} + u\\cdot u_{x} = 0$\n",
    "\n",
    "On an FLRW background, via Ceylon et al.:\n",
    "\n",
    "### $a\\cdot u_{t}+(1-kr^{2})^{1/2}\\cdot \\partial_r(\\frac{u^2}{2}) + u\\cdot (1-\\frac{u^{2}}{c^{2}})\\cdot \\dot{a} = 0$"
   ]
  },
  {
   "cell_type": "markdown",
   "id": "f9fdb495",
   "metadata": {},
   "source": [
    "===== ===== ===== ===== =====\n",
    "#### Contents:\n",
    "- Imports\n",
    "1. Initial Conditions (user configurable)\n",
    "2. Support Functions (advanced)\n",
    "3. Main Functions (advanced)\n",
    "4. Data Collection (user configurable)\n",
    "5. Plotting (user configurable)"
   ]
  },
  {
   "cell_type": "markdown",
   "id": "64ac2bfe",
   "metadata": {},
   "source": [
    "### Library Imports:"
   ]
  },
  {
   "cell_type": "code",
   "execution_count": 2,
   "id": "54d2f6e7",
   "metadata": {},
   "outputs": [],
   "source": [
    "import numpy as np\n",
    "import pandas as pd\n",
    "import matplotlib.pyplot as plt\n",
    "import seaborn as sns\n",
    "import time\n",
    "\n",
    "from mpl_toolkits.mplot3d import Axes3D\n",
    "from IPython.display import display, clear_output\n",
    "\n",
    "from godunov_burgers import PDE_plotter_1D as Pplot"
   ]
  },
  {
   "cell_type": "code",
   "execution_count": 3,
   "id": "04265905",
   "metadata": {},
   "outputs": [],
   "source": [
    "# Boundary Condition Functions (Direchelet - time domain)\n",
    "def u_t_0(t):\n",
    "    return t\n",
    "\n",
    "def u_t_L(t):\n",
    "    return t\n",
    "\n",
    "# Initial Condition Function\n",
    "def u_0_x(x):\n",
    "    if x < .3:\n",
    "        return 0\n",
    "    else:\n",
    "        return 1\n",
    "\n",
    "# FLRW Acceleration Terms - First Order\n",
    "def a_scale(t, alpha, a0=1, t0=1):\n",
    "    return 1 + t**alpha\n",
    "\n",
    "def a_scale_t(t, alpha, a0=1, t0=1):\n",
    "    return alpha * t**(alpha - 1)\n",
    "\n",
    "# Function to calculate the flux\n",
    "def calculate_flux(u, r, k, a_t):\n",
    "    return (1 - k * r**2)**0.5 * u**2 / (2 * a_t)\n",
    "\n",
    "# Function to calculate wave speeds\n",
    "def calculate_wave_speeds(u, r, k, c, a, a_t):\n",
    "    wave_speed_1 = abs((1 - k * r**2)**0.5 * u / a)\n",
    "    wave_speed_2 = abs(u * (1 - (u**2 / c**2)) * a_t / a)\n",
    "    return wave_speed_1, wave_speed_2\n",
    "\n",
    "# Precompute the maximum wave speeds over the domain and time interval\n",
    "def precompute_max_wave_speed(u_initial, r, k, c, a_scale, a_scale_t, alpha, t_max):\n",
    "    max_speed = 0\n",
    "    t_values = np.linspace(0, t_max, 100)  # Discretize the time interval\n",
    "\n",
    "    for t in t_values:\n",
    "        a = a_scale(t,alpha)\n",
    "        a_t = a_scale_t(t,alpha)\n",
    "        for i in range(len(u_initial)):\n",
    "            wave_speed_1, wave_speed_2 = calculate_wave_speeds(u_initial[i], r[i], k, c, a, a_t)\n",
    "            max_speed = max(max_speed, wave_speed_1, wave_speed_2)\n",
    "\n",
    "    return max_speed\n",
    "\n",
    "# Define the HLL flux calculation with correct r interface handling\n",
    "def hll_flux(u_left, u_right, r_left, r_right, k, a, a_t):\n",
    "    r_interface = (r_left + r_right) / 2\n",
    "    f_left = calculate_flux(u_left, r_interface, k, a_t)\n",
    "    f_right = calculate_flux(u_right, r_interface, k, a_t)\n",
    "    s_left, s_right = calculate_wave_speeds(u_left, r_interface, k, c, a, a_t)\n",
    "                      \n",
    "    if s_left >= 0:\n",
    "        return f_left\n",
    "    elif s_right <= 0:\n",
    "        return f_right\n",
    "    else:\n",
    "        return (s_right * f_left - s_left * f_right + s_left * s_right * (u_right - u_left)) / (s_right - s_left)\n",
    "\n",
    "# Godunov scheme implementation with time-dependent a and a_dot\n",
    "def godunov_scheme(u0, r, k, a_scale, a_scale_t, alpha, c, dr, dt, t_max):\n",
    "    U = []\n",
    "    U.append(u0)\n",
    "    u = u0.copy()\n",
    "    t = 0\n",
    "    while t < t_max + dt:\n",
    "        t += dt\n",
    "        u_new = u.copy()\n",
    "\n",
    "        for i in range(1, len(u) - 1):\n",
    "            r_left = r[i - 1]\n",
    "            r_center = r[i]\n",
    "            r_right = r[i + 1]\n",
    "\n",
    "            F_i_plus_1_2 = hll_flux(u[i], u[i + 1], r_center, r_right, k, a_scale(t, alpha), a_scale_t(t,alpha))\n",
    "            F_i_minus_1_2 = hll_flux(u[i - 1], u[i], r_left, r_center, k, a_scale(t, alpha), a_scale_t(t,alpha))\n",
    "\n",
    "            source_term = u[i] * (1 - (u[i]**2 / c**2)) * a_scale_t(t, alpha) / a_scale(t, alpha)\n",
    "            u_new[i] = u[i] - (dt / dr) * (F_i_plus_1_2 - F_i_minus_1_2) - dt * source_term\n",
    "                \n",
    "        u = u_new.copy()\n",
    "        \n",
    "        U.append(u)\n",
    "    \n",
    "    return U"
   ]
  },
  {
   "cell_type": "markdown",
   "id": "0234f337",
   "metadata": {},
   "source": [
    "#### ----"
   ]
  },
  {
   "cell_type": "code",
   "execution_count": 4,
   "id": "9199ee5f",
   "metadata": {},
   "outputs": [],
   "source": [
    "t_max = 1\n",
    "L = 1\n",
    "dr = .05\n",
    "Nr = int(L/dr)\n",
    "r_grid = np.linspace(0,L,Nr+1)\n",
    "\n",
    "# Using Initial Conditions, Create u0 (needs u_0_x)\n",
    "u0 = [u_0_x(r) for r in r_grid]\n",
    "\n",
    "# Set the boundary conditions\n",
    "u0[0] = u_t_0(0)\n",
    "u0[-1] = u_t_L(1)"
   ]
  },
  {
   "cell_type": "markdown",
   "id": "78ad91e8",
   "metadata": {},
   "source": [
    "#### ----"
   ]
  },
  {
   "cell_type": "code",
   "execution_count": 6,
   "id": "9a3e52fc",
   "metadata": {
    "scrolled": false
   },
   "outputs": [
    {
     "data": {
      "image/png": "[encoded data removed]",
      "text/plain": [
       "<Figure size 1000x600 with 1 Axes>"
      ]
     },
     "metadata": {},
     "output_type": "display_data"
    },
    {
     "name": "stdout",
     "output_type": "stream",
     "text": [
      "dt = 0.05\n"
     ]
    }
   ],
   "source": [
    "k = 0\n",
    "c = 1\n",
    "alpha = .5\n",
    "\n",
    "max_speed = precompute_max_wave_speed(u0, r_grid, k, c, a_scale, a_scale_t, alpha, t_max)\n",
    "dt = dr / max_speed\n",
    "\n",
    "U = godunov_scheme(u0, r_grid, k, a_scale, a_scale_t, alpha, c, dr, dt, t_max)\n",
    "Pplot(U, L, t_max, 10, 0, t_max, 0, L, style = 'multi', alpha_decay = .7)\n",
    "\n",
    "print('dt =',dt)"
   ]
  },
  {
   "cell_type": "code",
   "execution_count": null,
   "id": "2aa19ca9",
   "metadata": {},
   "outputs": [],
   "source": []
  },
  {
   "cell_type": "markdown",
   "id": "35c57c41",
   "metadata": {},
   "source": [
    "-----"
   ]
  },
  {
   "cell_type": "code",
   "execution_count": null,
   "id": "ecbe62ae",
   "metadata": {},
   "outputs": [],
   "source": [
    "# Boundary Condition Functions (Direchelet - time domain)\n",
    "def u_t_0(t):\n",
    "    return t\n",
    "\n",
    "def u_t_L(t):\n",
    "    return t\n",
    "\n",
    "# Initial Condition Function\n",
    "def u_0_x(x):\n",
    "    if x < .3:\n",
    "        return 0\n",
    "    else:\n",
    "        return 1\n",
    "\n",
    "# FLRW Acceleration Terms - First Order\n",
    "def a_scale(t, alpha, a0=1, t0=1):\n",
    "    return 1 + t**alpha\n",
    "\n",
    "def a_scale_t(t, alpha, a0=1, t0=1):\n",
    "    return alpha * t**(alpha - 1)"
   ]
  },
  {
   "cell_type": "code",
   "execution_count": null,
   "id": "0e8801be",
   "metadata": {},
   "outputs": [],
   "source": [
    "# Function to calculate the flux\n",
    "def calculate_flux(u, r, k, a_t):\n",
    "    return (1 - k * r**2)**0.5 * u**2 / (2 * a_t)\n",
    "\n",
    "# Function to calculate wave speeds\n",
    "def calculate_wave_speeds(u, r, k, c, a, a_t):\n",
    "    wave_speed_1 = abs((1 - k * r**2)**0.5 * u / a)\n",
    "    wave_speed_2 = abs(u * (1 - (u**2 / c**2)) * a_t / a)\n",
    "    return wave_speed_1, wave_speed_2\n",
    "\n",
    "# Precompute the maximum wave speeds over the domain and time interval\n",
    "def precompute_max_wave_speed(u_initial, r, k, c, a_scale, a_scale_t, alpha, t_max):\n",
    "    max_speed = 0\n",
    "    t_values = np.linspace(0, t_max, 100)  # Discretize the time interval\n",
    "\n",
    "    for t in t_values:\n",
    "        a = a_scale(t,alpha)\n",
    "        a_t = a_scale_t(t,alpha)\n",
    "        for i in range(len(u_initial)):\n",
    "            wave_speed_1, wave_speed_2 = calculate_wave_speeds(u_initial[i], r[i], k, c, a, a_t)\n",
    "            max_speed = max(max_speed, wave_speed_1, wave_speed_2)\n",
    "\n",
    "    return max_speed"
   ]
  },
  {
   "cell_type": "code",
   "execution_count": null,
   "id": "af7b136d",
   "metadata": {},
   "outputs": [],
   "source": [
    "L = 1\n",
    "dr = .05\n",
    "Nr = int(L/dr)\n",
    "r_grid = np.linspace(0,L,Nr+1)"
   ]
  },
  {
   "cell_type": "code",
   "execution_count": null,
   "id": "cf7c05f9",
   "metadata": {},
   "outputs": [],
   "source": [
    "# Using Initial Conditions, Create u0 (needs u_0_x)\n",
    "u0 = [u_0_x(x) for x in r_grid]\n",
    "\n",
    "# Set the boundary conditions\n",
    "u0[0] = u_t_0(0)\n",
    "u0[-1] = u_t_L(1)\n",
    "\n",
    "u0"
   ]
  },
  {
   "cell_type": "code",
   "execution_count": null,
   "id": "d45b3708",
   "metadata": {},
   "outputs": [],
   "source": [
    "k = 0\n",
    "c = 1\n",
    "alpha = 1\n",
    "t_max = 1\n",
    "\n",
    "max_speed = precompute_max_wave_speed(u0, r_grid, k, c, a_scale, a_scale_t, alpha, t_max)\n",
    "dt = dr / max_speed"
   ]
  },
  {
   "cell_type": "code",
   "execution_count": null,
   "id": "75e5861d",
   "metadata": {},
   "outputs": [],
   "source": [
    "# Define the HLL flux calculation with correct r interface handling\n",
    "def hll_flux(u_left, u_right, r_left, r_right, k, a, a_t):\n",
    "    r_interface = (r_left + r_right) / 2\n",
    "    f_left = calculate_flux(u_left, r_interface, k, a_t)\n",
    "    f_right = calculate_flux(u_right, r_interface, k, a_t)\n",
    "    s_left, s_right = calculate_wave_speeds(u_left, r_interface, k, c, a, a_t)\n",
    "                      \n",
    "    if s_left >= 0:\n",
    "        return f_left\n",
    "    elif s_right <= 0:\n",
    "        return f_right\n",
    "    else:\n",
    "        return (s_right * f_left - s_left * f_right + s_left * s_right * (u_right - u_left)) / (s_right - s_left)\n",
    "\n",
    "# Godunov scheme implementation with time-dependent a and a_dot\n",
    "def godunov_scheme(u0, r, k, a_scale, a_scale_t, alpha, c, dr, dt, t_max):\n",
    "    U = []\n",
    "    U.append(u0)\n",
    "    u = u0.copy()\n",
    "    t = 0\n",
    "    while t < t_max:\n",
    "        t += dt\n",
    "        u_new = u.copy()\n",
    "\n",
    "        for i in range(1, len(u) - 1):\n",
    "            r_left = r[i - 1]\n",
    "            r_center = r[i]\n",
    "            r_right = r[i + 1]\n",
    "\n",
    "            F_i_plus_1_2 = hll_flux(u[i], u[i + 1], r_center, r_right, k, a_scale(t, alpha), a_scale_t(t,alpha))\n",
    "            F_i_minus_1_2 = hll_flux(u[i - 1], u[i], r_left, r_center, k, a_scale(t, alpha), a_scale_t(t,alpha))\n",
    "\n",
    "            source_term = u[i] * (1 - (u[i]**2 / c**2)) * a_scale_t(t, alpha) / a_scale(t, alpha)\n",
    "            u_new[i] = u[i] - (dt / dr) * (F_i_plus_1_2 - F_i_minus_1_2) - dt * source_term\n",
    "                \n",
    "        u = u_new.copy()\n",
    "        \n",
    "        U.append(u)\n",
    "    \n",
    "    return U"
   ]
  },
  {
   "cell_type": "code",
   "execution_count": null,
   "id": "50d054cc",
   "metadata": {},
   "outputs": [],
   "source": [
    "U = godunov_scheme(u0, r_grid, k, a_scale, a_scale_t, alpha, c, dr, dt, t_max)"
   ]
  },
  {
   "cell_type": "code",
   "execution_count": null,
   "id": "3deb0ecf",
   "metadata": {},
   "outputs": [],
   "source": [
    "steps = 20\n",
    "t_min_plot = 0\n",
    "t_max_plot = t_max\n",
    "x_min_plot = 0\n",
    "x_max_plot = L\n",
    "\n",
    "Pplot(U, L, t_max, steps, t_min_plot, t_max_plot, x_min_plot, x_max_plot, style = 'multi', alpha_decay = .7)"
   ]
  },
  {
   "cell_type": "code",
   "execution_count": null,
   "id": "adabaa71",
   "metadata": {},
   "outputs": [],
   "source": []
  }
 ],
 "metadata": {
  "kernelspec": {
   "display_name": "Python 3 (ipykernel)",
   "language": "python",
   "name": "python3"
  },
  "language_info": {
   "codemirror_mode": {
    "name": "ipython",
    "version": 3
   },
   "file_extension": ".py",
   "mimetype": "text/x-python",
   "name": "python",
   "nbconvert_exporter": "python",
   "pygments_lexer": "ipython3",
   "version": "3.9.7"
  }
 },
 "nbformat": 4,
 "nbformat_minor": 5
}

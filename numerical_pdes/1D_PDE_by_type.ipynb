{
 "cells": [
  {
   "cell_type": "code",
   "execution_count": 5,
   "id": "d775316a",
   "metadata": {},
   "outputs": [],
   "source": [
    "import numpy as np\n",
    "import pandas as pd\n",
    "import matplotlib.pyplot as plt\n",
    "import time\n",
    "from IPython.display import display, clear_output\n",
    "\n",
    "import heat_equations as PDE"
   ]
  },
  {
   "cell_type": "markdown",
   "id": "88eb3c5a",
   "metadata": {},
   "source": [
    "## Nomenclature and PDE Types\n",
    "# $u= u(t,x)$,  $u_{x} = \\frac{\\partial{u}}{\\partial{x}}$,  $u_{xx}=\\frac{\\partial^2{u}}{\\partial{x}^2}$, $u_{t} = \\frac{\\partial{u}}{\\partial{t}}$,  $u_{tt}=\\frac{\\partial^2{u}}{\\partial{t}^2}$\n",
    "\n",
    "## $Au_{xx} + Bu_{xt} + Cu_{tt} + Du_{x} + Eu_{t} + Fu = G$\n",
    "\n",
    "### $B^2 - 4AC$:\n",
    "1. $= 0: Elliptical PDE$\n",
    "2. $< 0: Hyperbolic PDE$\n",
    "3. $> 0: Parabolic PDE$"
   ]
  },
  {
   "cell_type": "markdown",
   "id": "40fb7ba7",
   "metadata": {},
   "source": [
    "-----"
   ]
  },
  {
   "cell_type": "markdown",
   "id": "610cb5c7",
   "metadata": {},
   "source": [
    "#### Using a common set of initial conditions for first few examples:"
   ]
  },
  {
   "cell_type": "code",
   "execution_count": 10,
   "id": "dd119616",
   "metadata": {},
   "outputs": [],
   "source": [
    "# Initial Condition Functions\n",
    "def f_u_0_x(x):\n",
    "    '''\n",
    "    Assigns the initial values (t=0) for u, inner nodes.\n",
    "    If the initial value is a constant, leave function as-is.\n",
    "    If the initial value is a function of x, replace return value with function.\n",
    "    \n",
    "    Parameters: t = time [Float] \n",
    "    '''\n",
    "    return x*(x-1)*(x-3)\n",
    "\n",
    "def f_u_t_0(t):\n",
    "    '''\n",
    "    Assigns the initial value for the 0-boundary.\n",
    "    If the boundary is a constant value, leave function as-is.\n",
    "    If boundary is a function of t, replace return value with function.\n",
    "    \n",
    "    Parameters: t = time [Float]    \n",
    "    '''    \n",
    "    return 0\n",
    "\n",
    "def f_u_t_L(t):\n",
    "    '''\n",
    "    Assigns the initial value for the L-boundary.\n",
    "    If the boundary is a constant value, leave function as-is.\n",
    "    If boundary is a function of t, replace return value with function.\n",
    "    \n",
    "    Parameters: t = time [Float] \n",
    "    '''\n",
    "    return 0"
   ]
  },
  {
   "cell_type": "markdown",
   "id": "bba3590d",
   "metadata": {},
   "source": [
    "## 1. Laplace: $u_{xx} = 0$\n",
    "\n",
    "*Note: Laplace is the wave equation with constant t and no $c^2$ term.*"
   ]
  },
  {
   "cell_type": "code",
   "execution_count": null,
   "id": "3d14b72c",
   "metadata": {},
   "outputs": [],
   "source": [
    "'''\n",
    "This block old work kept - likely need implicit method \n",
    "\n",
    "## Set the 1D mesh\n",
    "# Select L and dx to examine\n",
    "L = 3\n",
    "dx = .04\n",
    "\n",
    "# These are calculated\n",
    "Nx = int(L/dx) + 1\n",
    "x_grid = np.linspace(0,L,Nx)\n",
    "\n",
    "# These are required since time is constant\n",
    "t_max = 1\n",
    "t_min_plot = 0\n",
    "t_max_plot = \n",
    "'''"
   ]
  },
  {
   "cell_type": "markdown",
   "id": "a650fbdd",
   "metadata": {},
   "source": [
    "## 2. Poisson: $u_{xx} = u$\n",
    "Note: Often given as $-u_{xx} = f$"
   ]
  },
  {
   "cell_type": "markdown",
   "id": "69f35c19",
   "metadata": {},
   "source": [
    "## 3a. Transport (w/o decay/growth): $u_{t} + cu_{x} = 0, \\tiny\\text{where c = a constant}$"
   ]
  },
  {
   "cell_type": "markdown",
   "id": "e8b2fb5a",
   "metadata": {},
   "source": [
    "Explicit:"
   ]
  },
  {
   "cell_type": "code",
   "execution_count": null,
   "id": "c1d7f85b",
   "metadata": {},
   "outputs": [],
   "source": [
    "# Create explicit function\n",
    "def transport_1D_explicit(u_line,c,m,dt,dx):\n",
    "    '''\n",
    "    Takes in:\n",
    "    u_line - an 1D array\n",
    "    m - a space index\n",
    "    dt - time step\n",
    "    dx - x step\n",
    "    '''\n",
    "    return  c * (dt/(2*dx)) * (u_line[m-1] - u_line[m+1]) + u_line[m]"
   ]
  },
  {
   "cell_type": "code",
   "execution_count": null,
   "id": "abf0d5b9",
   "metadata": {},
   "outputs": [],
   "source": [
    "# -- User Defined - IC and Boundary condition functions determined at start of notebook\n",
    "L_3 = 3\n",
    "t_max_3 = 1\n",
    "\n",
    "dx_3 = .1\n",
    "dt_3 = .00001\n",
    "\n",
    "c_3 = .05\n",
    "\n",
    "# -- Calculated\n",
    "Nx_3 = int(L_3/dx_3) + 1\n",
    "Nt_3 = int(t_max_3/dt_3)\n",
    "\n",
    "x_grid_3 = np.linspace(0,L_3,Nx_3)\n",
    "t_grid_3 = np.linspace(0,t_max_3,Nt_3)\n",
    "\n",
    "# -- Create solution data holder\n",
    "U_3 = []\n",
    "\n",
    "# -- Append initial conditions (t = 0)\n",
    "u_t_x_0 = []\n",
    "\n",
    "for x in x_grid_3:\n",
    "    u_t_x_0.append(f_u_0_x(x))\n",
    "\n",
    "u_t_x_0[0] = f_u_t_0(0)\n",
    "u_t_x_0[-1] = f_u_t_L(0)\n",
    "\n",
    "U_3.append(u_t_x_0)\n",
    "\n",
    "for j in range(len(t_grid_3)):\n",
    "    u_t_x = []\n",
    "    \n",
    "    u_previous = U_3[-1]\n",
    "    \n",
    "    for m in range(1,len(x_grid_3)-1):\n",
    "        # Equation 5.14 (slightly modified) to calculate u at each x value:\n",
    "        #! - Note: can use classes or other methods to choose which function is used\n",
    "        u = transport_1D_explicit(u_previous,c_3,m,dt_3,dx_3)\n",
    "        # Append this value to the time step line\n",
    "        u_t_x.append(u)\n",
    "\n",
    "    # Append the first and last value with boundary conditions (0 in this case)\n",
    "    u_t_x.insert(0,f_u_t_0(j*dt_3))\n",
    "    u_t_x.append(f_u_t_L(j*dt_3))\n",
    "\n",
    "    # Now append the full solutions matrix\n",
    "    U_3.append(u_t_x) "
   ]
  },
  {
   "cell_type": "code",
   "execution_count": null,
   "id": "6a7f829f",
   "metadata": {},
   "outputs": [],
   "source": [
    "steps = 20\n",
    "t_min_plot = 0\n",
    "t_max_plot = len(U_3)\n",
    "x_min_plot = 0\n",
    "x_max_plot = L_3\n",
    "PDE.PDE_plotter_1D(U_3, L_3, t_max_3, steps, t_min_plot, t_max_plot, x_min_plot, x_max_plot, style='heat')"
   ]
  },
  {
   "cell_type": "markdown",
   "id": "e016beee",
   "metadata": {},
   "source": [
    "#### CR Method:"
   ]
  },
  {
   "cell_type": "code",
   "execution_count": null,
   "id": "a56ad4d7",
   "metadata": {},
   "outputs": [],
   "source": []
  },
  {
   "cell_type": "markdown",
   "id": "ed504d80",
   "metadata": {},
   "source": [
    "## 3b. Transport w/ decay/growth: $u_{t} + cu_{x} = u, \\tiny\\text{where c = a constant}$"
   ]
  },
  {
   "cell_type": "code",
   "execution_count": null,
   "id": "a4542cd2",
   "metadata": {},
   "outputs": [],
   "source": []
  },
  {
   "cell_type": "code",
   "execution_count": null,
   "id": "85d4b3b6",
   "metadata": {},
   "outputs": [],
   "source": []
  },
  {
   "cell_type": "markdown",
   "id": "fcb14667",
   "metadata": {},
   "source": [
    "## 4.  Nonlinear Transport (Inviscid Burgers): $u_{t} + (u)u_{x} = 0$"
   ]
  },
  {
   "cell_type": "code",
   "execution_count": null,
   "id": "331600ac",
   "metadata": {},
   "outputs": [],
   "source": [
    "# Create explicit function\n",
    "def invisic_burgers_1D_explicit(u_line,m,dt,dx):\n",
    "    '''\n",
    "    Takes in\n",
    "    u_line - an 1D array\n",
    "    m - a space index\n",
    "    dt - time step\n",
    "    dx - x step\n",
    "    '''\n",
    "    return  u_line[m] * ((dt/(2*dx)) * (u_line[m-1] - u_line[m+1]) + 1)"
   ]
  },
  {
   "cell_type": "code",
   "execution_count": null,
   "id": "97ac44b9",
   "metadata": {},
   "outputs": [],
   "source": [
    "# -- User Defined - IC and Boundary condition functions determined at start of notebook\n",
    "L_4 = 3\n",
    "t_max_4 = 1\n",
    "\n",
    "dx_4 = .1\n",
    "dt_4 = .00001\n",
    "\n",
    "# -- Calculated\n",
    "Nx_4 = int(L_4/dx_4) + 1\n",
    "Nt_4 = int(t_max_4/dt_4)\n",
    "\n",
    "x_grid_4 = np.linspace(0,L_4,Nx_4)\n",
    "t_grid_4 = np.linspace(0,t_max_4,Nt_4)\n",
    "\n",
    "# -- Create solution data holder\n",
    "U_4 = []\n",
    "\n",
    "# -- Append initial conditions (t = 0)\n",
    "u_t_x_0 = []\n",
    "\n",
    "for x in x_grid_4:\n",
    "    u_t_x_0.append(f_u_0_x(x))\n",
    "\n",
    "u_t_x_0[0] = f_u_t_0(0)\n",
    "u_t_x_0[-1] = f_u_t_L(0)\n",
    "\n",
    "U_4.append(u_t_x_0)\n",
    "\n",
    "for j in range(len(t_grid_4)):\n",
    "    u_t_x = []\n",
    "    \n",
    "    u_previous = U_4[-1]\n",
    "    \n",
    "    for m in range(1,len(x_grid_4)-1):\n",
    "        # Equation 5.14 (slightly modified) to calculate u at each x value:\n",
    "        #! - Note: can use classes or other methods to choose which function is used\n",
    "        u = invisic_burgers_1D_explicit(u_previous,m,dt_4,dx_4)\n",
    "        # Append this value to the time step line\n",
    "        u_t_x.append(u)\n",
    "\n",
    "    # Append the first and last value with boundary conditions (0 in this case)\n",
    "    u_t_x.insert(0,f_u_t_0(j*dt_4))\n",
    "    u_t_x.append(f_u_t_L(j*dt_4))\n",
    "\n",
    "    # Now append the full solutions matrix\n",
    "    U_4.append(u_t_x) "
   ]
  },
  {
   "cell_type": "code",
   "execution_count": null,
   "id": "e67782a7",
   "metadata": {},
   "outputs": [],
   "source": [
    "steps_4 = 20\n",
    "t_min_plot_4 = 0\n",
    "t_max_plot_4 = len(U_4)\n",
    "x_min_plot_4 = 0\n",
    "x_max_plot_4 = L_4\n",
    "PDE.PDE_plotter_1D(U_4, L_4, t_max_4, steps_4, t_min_plot_4, t_max_plot_4, x_min_plot_4, x_max_plot_4)"
   ]
  },
  {
   "cell_type": "markdown",
   "id": "1cb60534",
   "metadata": {},
   "source": [
    "## 5.  Diffusion Equation (Heat): $u_{t} = \\alpha{}u_{xx}, \\tiny\\text{where } \\alpha \\tiny\\text{ = a constant}$\n",
    "***Note: Use 'a' for $\\alpha$***"
   ]
  },
  {
   "cell_type": "code",
   "execution_count": null,
   "id": "8832589e",
   "metadata": {},
   "outputs": [],
   "source": [
    "def heat_1D_explicit(u_line,a,m,dt,dx):\n",
    "    '''\n",
    "    Takes in\n",
    "    u_line - an 1D array\n",
    "    a - diffusion constant\n",
    "    m - a space index\n",
    "    dt - time step\n",
    "    dx - x step\n",
    "    '''\n",
    "    mu = a * (dt/dx**2) # Related to dt above, must be </= to .5\n",
    "    return  u_line[m] + mu*(u_line[m+1] + u_line[m-1] - 2*u_line[m])"
   ]
  },
  {
   "cell_type": "code",
   "execution_count": null,
   "id": "82df84e8",
   "metadata": {},
   "outputs": [],
   "source": [
    "# -- User Defined - IC and Boundary condition functions determined at start of notebook\n",
    "L_5 = 3\n",
    "t_max_5 = 1\n",
    "\n",
    "dx_5 = .01\n",
    "dt_5 = .0001\n",
    "\n",
    "a_5 = .5\n",
    "\n",
    "# Create a stability check\n",
    "if dt_5 > (dx_5**2 / (2*a_5)):\n",
    "    raise Exception(f\"Entered dt is outside of stability range.  Please enter a smaller step size.\\nNote: dt must </= {dx_5**2 / (2*a_5)}\")\n",
    "\n",
    "# -- Calculated\n",
    "Nx_5 = int(L_5/dx_5) + 1\n",
    "Nt_5 = int(t_max_5/dt_5)\n",
    "\n",
    "x_grid_5 = np.linspace(0,L_5,Nx_5)\n",
    "t_grid_5 = np.linspace(0,t_max_5,Nt_5)\n",
    "\n",
    "# -- Create solution data holder\n",
    "U_5 = []\n",
    "\n",
    "# -- Append initial conditions (t = 0)\n",
    "u_t_x_0 = []\n",
    "\n",
    "for x in x_grid_5:\n",
    "    u_t_x_0.append(f_u_0_x(x))\n",
    "\n",
    "u_t_x_0[0] = f_u_t_0(0)\n",
    "u_t_x_0[-1] = f_u_t_L(0)\n",
    "\n",
    "U_5.append(u_t_x_0)\n",
    "\n",
    "for j in range(len(t_grid_5)):\n",
    "    u_t_x = []\n",
    "    \n",
    "    u_previous = U_5[-1]\n",
    "    \n",
    "    for m in range(1,len(x_grid_5)-1):\n",
    "        u = heat_1D_explicit(u_previous,a_5,m,dt_5,dx_5)\n",
    "        # Append this value to the time step line\n",
    "        u_t_x.append(u)\n",
    "\n",
    "    # Append the first and last value with boundary conditions (0 in this case)\n",
    "    u_t_x.insert(0,f_u_t_0(j*dt_5))\n",
    "    u_t_x.append(f_u_t_L(j*dt_5))\n",
    "\n",
    "    # Now append the full solutions matrix\n",
    "    U_5.append(u_t_x) "
   ]
  },
  {
   "cell_type": "code",
   "execution_count": null,
   "id": "8b58ea39",
   "metadata": {},
   "outputs": [],
   "source": [
    "steps_5 = 20\n",
    "t_min_plot_5 = 0\n",
    "t_max_plot_5 = 1\n",
    "x_min_plot_5 = 0\n",
    "x_max_plot_5 = 3\n",
    "PDE.PDE_plotter_1D(U_5, L_5, t_max_5, steps_5, t_min_plot_5, t_max_plot_5, x_min_plot_5, x_max_plot_5, style=\"heat\")"
   ]
  },
  {
   "cell_type": "markdown",
   "id": "2d5a3568",
   "metadata": {},
   "source": [
    "## 6. Wave Equation (Linear): $u_{tt} = c^{2}u_{xx}, \\tiny\\text{where c = a constant}$"
   ]
  },
  {
   "cell_type": "code",
   "execution_count": 47,
   "id": "90be1cf8",
   "metadata": {},
   "outputs": [],
   "source": [
    "def wave_1D_explicit(u_line,u_line_previous,c,m,dt,dx):\n",
    "    '''\n",
    "    Takes in\n",
    "    u_line - an 1D array\n",
    "    u_line_previous - an 1D array\n",
    "    m - a space index\n",
    "    dt - time step\n",
    "    dx - x step\n",
    "    \n",
    "    ***Add notes here about derivation from the centered difference from each side of the equation***\n",
    "    '''\n",
    "    return (dt**2/dx**2) * c**2 * (u_line[m+1] + u_line[m-1] - 2*u_line[m]) + 2*u_line[m] - u_line_previous[m]"
   ]
  },
  {
   "cell_type": "code",
   "execution_count": 48,
   "id": "a09f127a",
   "metadata": {},
   "outputs": [],
   "source": [
    "# -- User Defined - IC and Boundary condition functions determined at start of notebook\n",
    "L_6 = 3\n",
    "t_max_6 = 5\n",
    "\n",
    "dx_6 = .01\n",
    "dt_6 = .0001\n",
    "\n",
    "c_6 = .5\n",
    "\n",
    "# Create a stability check\n",
    "if dt_6**2 > (dx_6**2 / (2*c_6**2)):\n",
    "    raise Exception(f\"Entered dt is outside of stability range.  Please enter a smaller step size.\\nNote: dt must </= {dx_5**2 / (2*c_5)}\")\n",
    "\n",
    "# -- Calculated\n",
    "Nx_6 = int(L_6/dx_6) + 1\n",
    "Nt_6 = int(t_max_6/dt_6) + 1\n",
    "\n",
    "x_grid_6 = np.linspace(0,L_6,Nx_6)\n",
    "t_grid_6 = np.linspace(0,t_max_6,Nt_6)\n",
    "\n",
    "# -- Create solution data holder\n",
    "U_6 = []\n",
    "\n",
    "# -- Append initial conditions (t = 0)\n",
    "u_t_x_0 = []\n",
    "\n",
    "for x in x_grid_6:\n",
    "    u_t_x_0.append(f_u_0_x(x))\n",
    "\n",
    "u_t_x_0[0] = f_u_t_0(0)\n",
    "u_t_x_0[-1] = f_u_t_L(0)\n",
    "\n",
    "U_6.append(u_t_x_0)\n",
    "\n",
    "u_previous_2 = U_6[-1]\n",
    "\n",
    "for j in range(len(t_grid_6)):\n",
    "    u_t_x = []\n",
    "        \n",
    "    u_previous = U_6[-1]\n",
    "    \n",
    "    for m in range(1,len(x_grid_6)-1):\n",
    "        u = wave_1D_explicit(u_previous,u_previous_2,c_6,m,dt_6,dx_6)\n",
    "        # Append this value to the time step line\n",
    "        u_t_x.append(u)\n",
    "\n",
    "    # Append the first and last value with boundary conditions (0 in this case)\n",
    "    u_t_x.insert(0,f_u_t_0(0))\n",
    "    u_t_x.append(f_u_t_L(0))\n",
    "    \n",
    "    u_previous_2 = u_previous\n",
    "\n",
    "    # Now append the full solutions matrix\n",
    "    U_6.append(u_t_x) "
   ]
  },
  {
   "cell_type": "code",
   "execution_count": null,
   "id": "844274b3",
   "metadata": {},
   "outputs": [],
   "source": [
    "pd.DataFrame(U_6)"
   ]
  },
  {
   "cell_type": "code",
   "execution_count": 49,
   "id": "b87317ab",
   "metadata": {},
   "outputs": [
    {
     "data": {
      "image/png": "[encoded data removed]",
      "text/plain": [
       "<Figure size 1000x600 with 1 Axes>"
      ]
     },
     "metadata": {},
     "output_type": "display_data"
    }
   ],
   "source": [
    "steps_6 = 1\n",
    "t_min_plot_6 = 0             # default = 0\n",
    "t_max_plot_6 = 1      # default = len(U_6)\n",
    "x_min_plot_6 = 0             # default = 0\n",
    "x_max_plot_6 = L_6           # default = L_6\n",
    "PDE.PDE_plotter_1D(U_6, L_6, t_max_6, steps_6, t_min_plot_6, t_max_plot_6, x_min_plot_6, x_max_plot_6, alpha_decay=.2)"
   ]
  },
  {
   "cell_type": "markdown",
   "id": "a204628b",
   "metadata": {},
   "source": [
    "### *Crank-Nicholson*"
   ]
  },
  {
   "cell_type": "code",
   "execution_count": 18,
   "id": "9b972da8",
   "metadata": {},
   "outputs": [],
   "source": [
    "# -- User Defined - IC and Boundary condition functions determined at start of notebook\n",
    "L_6 = 3\n",
    "t_max_6 = 3\n",
    "\n",
    "dx_6 = .01\n",
    "dt_6 = .01\n",
    "\n",
    "c_6 = .5\n",
    "\n",
    "# -- Calculated\n",
    "Nx_6 = int(L_6/dx_6) + 1\n",
    "Nt_6 = int(t_max_6/dt_6) + 1\n",
    "\n",
    "x_grid_6 = np.linspace(0,L_6,Nx_6)\n",
    "t_grid_6 = np.linspace(0,t_max_6,Nt_6)"
   ]
  },
  {
   "cell_type": "code",
   "execution_count": 19,
   "id": "c92105e4",
   "metadata": {},
   "outputs": [],
   "source": [
    "# Create return array (n x m matrix)\n",
    "n = len(x_grid_6)\n",
    "m = len(t_grid_6)\n",
    "C = np.zeros((m,n))"
   ]
  },
  {
   "cell_type": "code",
   "execution_count": 20,
   "id": "9520eca3",
   "metadata": {},
   "outputs": [
    {
     "name": "stdout",
     "output_type": "stream",
     "text": [
      "Boundary and Initial Conditions agreement at x = 0 is True\n",
      "Boundary and Initial Conditions agreement at x = L is True\n"
     ]
    }
   ],
   "source": [
    "# Set initial conditions\n",
    "C[0,:] = f_u_0_x(x_grid_6)\n",
    "\n",
    "# Set boundary values\n",
    "C[:,0] = f_u_t_0(0)\n",
    "C[:,-1] = f_u_t_L(0)\n",
    "\n",
    "# Check boundary condition agreement - Note analysis can still work if false, but needs to be taken into consideration\n",
    "print('Boundary and Initial Conditions agreement at x = 0 is',f_u_0_x(0) == f_u_t_0(0))\n",
    "print('Boundary and Initial Conditions agreement at x = L is',f_u_0_x(L_6) == f_u_t_L(0))"
   ]
  },
  {
   "cell_type": "code",
   "execution_count": 21,
   "id": "554493af",
   "metadata": {},
   "outputs": [],
   "source": [
    "# Derive the Lambda\n",
    "alpha = (c_6 * dt_6/dx_6**2)/2\n",
    "\n",
    "# LHS = A: a tridiagnonal matrix\n",
    "A = np.diag([2+2*alpha]*(Nt_6-2)) + np.diag([-alpha]*(Nt_6-3),1) + np.diag([-alpha]*(Nt_6-3),-1)"
   ]
  },
  {
   "cell_type": "code",
   "execution_count": 22,
   "id": "8f3a934f",
   "metadata": {},
   "outputs": [
    {
     "ename": "ValueError",
     "evalue": "solve1: Input operand 1 has a mismatch in its core dimension 0, with gufunc signature (m,m),(m)->(m) (size 299 is different from 301)",
     "output_type": "error",
     "traceback": [
      "\u001b[0;31m---------------------------------------------------------------------------\u001b[0m",
      "\u001b[0;31mValueError\u001b[0m                                Traceback (most recent call last)",
      "\u001b[0;32m/var/folders/nw/8yyyyp8n70vbplhdsylyqs8c0000gn/T/ipykernel_89718/3309151985.py\u001b[0m in \u001b[0;36m<module>\u001b[0;34m\u001b[0m\n\u001b[1;32m      3\u001b[0m     \u001b[0mb\u001b[0m\u001b[0;34m[\u001b[0m\u001b[0;36m0\u001b[0m\u001b[0;34m]\u001b[0m \u001b[0;34m=\u001b[0m \u001b[0mb\u001b[0m\u001b[0;34m[\u001b[0m\u001b[0;36m0\u001b[0m\u001b[0;34m]\u001b[0m \u001b[0;34m+\u001b[0m \u001b[0malpha\u001b[0m\u001b[0;34m**\u001b[0m\u001b[0;36m2\u001b[0m \u001b[0;34m*\u001b[0m \u001b[0mC\u001b[0m\u001b[0;34m[\u001b[0m\u001b[0mi\u001b[0m\u001b[0;34m+\u001b[0m\u001b[0;36m1\u001b[0m\u001b[0;34m,\u001b[0m\u001b[0;36m0\u001b[0m\u001b[0;34m]\u001b[0m\u001b[0;34m\u001b[0m\u001b[0;34m\u001b[0m\u001b[0m\n\u001b[1;32m      4\u001b[0m     \u001b[0mb\u001b[0m\u001b[0;34m[\u001b[0m\u001b[0;34m-\u001b[0m\u001b[0;36m1\u001b[0m\u001b[0;34m]\u001b[0m \u001b[0;34m=\u001b[0m \u001b[0mb\u001b[0m\u001b[0;34m[\u001b[0m\u001b[0;34m-\u001b[0m\u001b[0;36m1\u001b[0m\u001b[0;34m]\u001b[0m \u001b[0;34m+\u001b[0m \u001b[0malpha\u001b[0m\u001b[0;34m**\u001b[0m\u001b[0;36m2\u001b[0m \u001b[0;34m*\u001b[0m \u001b[0mC\u001b[0m\u001b[0;34m[\u001b[0m\u001b[0mi\u001b[0m\u001b[0;34m+\u001b[0m\u001b[0;36m1\u001b[0m\u001b[0;34m,\u001b[0m\u001b[0;34m-\u001b[0m\u001b[0;36m1\u001b[0m\u001b[0;34m]\u001b[0m\u001b[0;34m\u001b[0m\u001b[0;34m\u001b[0m\u001b[0m\n\u001b[0;32m----> 5\u001b[0;31m     \u001b[0msol\u001b[0m \u001b[0;34m=\u001b[0m \u001b[0mnp\u001b[0m\u001b[0;34m.\u001b[0m\u001b[0mlinalg\u001b[0m\u001b[0;34m.\u001b[0m\u001b[0msolve\u001b[0m\u001b[0;34m(\u001b[0m\u001b[0mC\u001b[0m\u001b[0;34m,\u001b[0m\u001b[0mb\u001b[0m\u001b[0;34m)\u001b[0m\u001b[0;34m\u001b[0m\u001b[0;34m\u001b[0m\u001b[0m\n\u001b[0m\u001b[1;32m      6\u001b[0m     \u001b[0mTi\u001b[0m\u001b[0;34m[\u001b[0m\u001b[0mi\u001b[0m\u001b[0;34m+\u001b[0m\u001b[0;36m1\u001b[0m\u001b[0;34m,\u001b[0m\u001b[0;36m1\u001b[0m\u001b[0;34m:\u001b[0m\u001b[0;34m-\u001b[0m\u001b[0;36m1\u001b[0m\u001b[0;34m]\u001b[0m \u001b[0;34m=\u001b[0m \u001b[0msol\u001b[0m\u001b[0;34m\u001b[0m\u001b[0;34m\u001b[0m\u001b[0m\n",
      "\u001b[0;32m/opt/homebrew/anaconda3/lib/python3.9/site-packages/numpy/core/overrides.py\u001b[0m in \u001b[0;36msolve\u001b[0;34m(*args, **kwargs)\u001b[0m\n",
      "\u001b[0;32m/opt/homebrew/anaconda3/lib/python3.9/site-packages/numpy/linalg/linalg.py\u001b[0m in \u001b[0;36msolve\u001b[0;34m(a, b)\u001b[0m\n\u001b[1;32m    384\u001b[0m     \u001b[0msignature\u001b[0m \u001b[0;34m=\u001b[0m \u001b[0;34m'DD->D'\u001b[0m \u001b[0;32mif\u001b[0m \u001b[0misComplexType\u001b[0m\u001b[0;34m(\u001b[0m\u001b[0mt\u001b[0m\u001b[0;34m)\u001b[0m \u001b[0;32melse\u001b[0m \u001b[0;34m'dd->d'\u001b[0m\u001b[0;34m\u001b[0m\u001b[0;34m\u001b[0m\u001b[0m\n\u001b[1;32m    385\u001b[0m     \u001b[0mextobj\u001b[0m \u001b[0;34m=\u001b[0m \u001b[0mget_linalg_error_extobj\u001b[0m\u001b[0;34m(\u001b[0m\u001b[0m_raise_linalgerror_singular\u001b[0m\u001b[0;34m)\u001b[0m\u001b[0;34m\u001b[0m\u001b[0;34m\u001b[0m\u001b[0m\n\u001b[0;32m--> 386\u001b[0;31m     \u001b[0mr\u001b[0m \u001b[0;34m=\u001b[0m \u001b[0mgufunc\u001b[0m\u001b[0;34m(\u001b[0m\u001b[0ma\u001b[0m\u001b[0;34m,\u001b[0m \u001b[0mb\u001b[0m\u001b[0;34m,\u001b[0m \u001b[0msignature\u001b[0m\u001b[0;34m=\u001b[0m\u001b[0msignature\u001b[0m\u001b[0;34m,\u001b[0m \u001b[0mextobj\u001b[0m\u001b[0;34m=\u001b[0m\u001b[0mextobj\u001b[0m\u001b[0;34m)\u001b[0m\u001b[0;34m\u001b[0m\u001b[0;34m\u001b[0m\u001b[0m\n\u001b[0m\u001b[1;32m    387\u001b[0m \u001b[0;34m\u001b[0m\u001b[0m\n\u001b[1;32m    388\u001b[0m     \u001b[0;32mreturn\u001b[0m \u001b[0mwrap\u001b[0m\u001b[0;34m(\u001b[0m\u001b[0mr\u001b[0m\u001b[0;34m.\u001b[0m\u001b[0mastype\u001b[0m\u001b[0;34m(\u001b[0m\u001b[0mresult_t\u001b[0m\u001b[0;34m,\u001b[0m \u001b[0mcopy\u001b[0m\u001b[0;34m=\u001b[0m\u001b[0;32mFalse\u001b[0m\u001b[0;34m)\u001b[0m\u001b[0;34m)\u001b[0m\u001b[0;34m\u001b[0m\u001b[0;34m\u001b[0m\u001b[0m\n",
      "\u001b[0;31mValueError\u001b[0m: solve1: Input operand 1 has a mismatch in its core dimension 0, with gufunc signature (m,m),(m)->(m) (size 299 is different from 301)"
     ]
    }
   ],
   "source": [
    "for i in range(0,m-1):\n",
    "    b = C[i,1:-1].copy() #Need the copy here!\n",
    "    b[0] = b[0] + alpha**2 * C[i+1,0]\n",
    "    b[-1] = b[-1] + alpha**2 * C[i+1,-1]\n",
    "    sol = np.linalg.solve(C,b)\n",
    "    Ti[i+1,1:-1] = sol"
   ]
  },
  {
   "cell_type": "code",
   "execution_count": 121,
   "id": "63926d3c",
   "metadata": {},
   "outputs": [
    {
     "data": {
      "text/plain": [
       "(50001, 301)"
      ]
     },
     "execution_count": 121,
     "metadata": {},
     "output_type": "execute_result"
    }
   ],
   "source": [
    "C.shape"
   ]
  },
  {
   "cell_type": "markdown",
   "id": "3c19548e",
   "metadata": {},
   "source": [
    "## 7a. Klein-Gordon (Nonlinear): $u_{tt} - u_{xx} + u + x^{-6}u^{7}$"
   ]
  },
  {
   "cell_type": "code",
   "execution_count": 58,
   "id": "c84c9dfe",
   "metadata": {},
   "outputs": [],
   "source": [
    "# Initial Condition Functions\n",
    "def f_u_0_x(x):\n",
    "    '''\n",
    "    Assigns the initial values (t=0) for u, inner nodes.\n",
    "    If the initial value is a constant, leave function as-is.\n",
    "    If the initial value is a function of x, replace return value with function.\n",
    "    \n",
    "    Parameters: t = time [Float] \n",
    "    '''\n",
    "    return x*(x-1)\n",
    "\n",
    "def f_u_t_0(t):\n",
    "    '''\n",
    "    Assigns the initial value for the 0-boundary.\n",
    "    If the boundary is a constant value, leave function as-is.\n",
    "    If boundary is a function of t, replace return value with function.\n",
    "    \n",
    "    Parameters: t = time [Float]    \n",
    "    '''    \n",
    "    return 0\n",
    "\n",
    "def f_u_t_L(t):\n",
    "    '''\n",
    "    Assigns the initial value for the L-boundary.\n",
    "    If the boundary is a constant value, leave function as-is.\n",
    "    If boundary is a function of t, replace return value with function.\n",
    "    \n",
    "    Parameters: t = time [Float] \n",
    "    '''\n",
    "    return 0"
   ]
  },
  {
   "cell_type": "code",
   "execution_count": 59,
   "id": "842982f5",
   "metadata": {},
   "outputs": [],
   "source": [
    "def test_1D_nonlinear(u_line,u_line_previous,m,dt,dx):\n",
    "    '''\n",
    "    Takes in\n",
    "    u_line - an 1D array\n",
    "    u_line_previous - an 1D array\n",
    "    m - a space index \n",
    "    dt - time step\n",
    "    dx - x step\n",
    "    \n",
    "    ***Add notes here about derivation from the centered difference from each side of the equation***\n",
    "    '''\n",
    "    x = m * dx\n",
    "    return (dt**2/dx**2) * (u_line[m+1] + u_line[m-1] - 2*u_line[m]) - dt**2 * u_line[m] + 2 * u_line[m] - (dt**2/x**6) * u_line[m]**7 - u_line_previous[m]"
   ]
  },
  {
   "cell_type": "code",
   "execution_count": 60,
   "id": "81a236fa",
   "metadata": {},
   "outputs": [],
   "source": [
    "# -- User Defined - IC and Boundary condition functions determined at start of notebook\n",
    "L_7 = 1\n",
    "t_max_7 = .5\n",
    "\n",
    "dx_7 = .002\n",
    "dt_7 = .002\n",
    "\n",
    "# -- Create a stability check\n",
    "if dx_7/dt_7 < 1:\n",
    "    raise Exception(f\"Entered dt is outside of stability range.  Please enter a smaller step size.\")\n",
    "\n",
    "# -- Calculated\n",
    "Nx_7 = int(L_7/dx_7) + 1\n",
    "Nt_7 = int(t_max_7/dt_7) + 1\n",
    "\n",
    "x_grid_7 = np.linspace(0,L_7,Nx_7)\n",
    "t_grid_7 = np.linspace(0,t_max_7,Nt_7)\n",
    "\n",
    "# -- Create solution data holder\n",
    "U_7 = []\n",
    "\n",
    "# -- Append initial conditions (t = 0) and boundary conditions (x = 0, x = L)\n",
    "u_t_x_0 = [f_u_0_x(x) for x in x_grid_7]\n",
    "\n",
    "u_t_x_0[0] = f_u_t_0(0)\n",
    "u_t_x_0[-1] = f_u_t_L(0)\n",
    "\n",
    "U_7.append(u_t_x_0)\n",
    "\n",
    "u_previous_2 = U_7[-1]\n",
    "\n",
    "for j in range(len(t_grid_7)):\n",
    "    u_t_x = []\n",
    "    \n",
    "    u_previous = U_7[-1]\n",
    "    \n",
    "    for m in range(1,len(x_grid_7)-1):\n",
    "        u = test_1D_nonlinear(u_previous,u_previous_2,m,dt_7,dx_7)\n",
    "        # Append this value to the time step line\n",
    "        u_t_x.append(u)\n",
    "        \n",
    "    u_previous_2 = u_previous\n",
    "\n",
    "    # Append the first and last value with boundary conditions (0 in this case)\n",
    "    u_t_x.insert(0,f_u_t_0(0))\n",
    "    u_t_x.append(f_u_t_L(0))\n",
    "\n",
    "    # Now append the full solutions matrix\n",
    "    U_7.append(u_t_x) "
   ]
  },
  {
   "cell_type": "code",
   "execution_count": 61,
   "id": "59b78da9",
   "metadata": {},
   "outputs": [
    {
     "data": {
      "image/png": "[encoded data removed]",
      "text/plain": [
       "<Figure size 1000x600 with 1 Axes>"
      ]
     },
     "metadata": {},
     "output_type": "display_data"
    }
   ],
   "source": [
    "steps_7 = 1\n",
    "t_min_plot_7 = 0             # default = 0\n",
    "t_max_plot_7 = 1            # default = len(U_7)\n",
    "x_min_plot_7 = 0            # default = 0\n",
    "x_max_plot_7 = L_7            # default = t_max\n",
    "PDE.PDE_plotter_1D(U_7, L_7, t_max_7, steps_7, t_min_plot_7, t_max_plot_7, x_min_plot_7, x_max_plot_7, alpha_decay = .2)"
   ]
  },
  {
   "cell_type": "markdown",
   "id": "bce122e0",
   "metadata": {},
   "source": [
    "## 7b. General Klein Gordon Solver - TODO"
   ]
  },
  {
   "cell_type": "markdown",
   "id": "addae148",
   "metadata": {},
   "source": [
    "# To Check:\n",
    "The graph to the right of the initial wave seems to have the highly oscillatory solutions - check if this is due to the left to right nature of the development of the explicit steps."
   ]
  }
 ],
 "metadata": {
  "kernelspec": {
   "display_name": "Python 3 (ipykernel)",
   "language": "python",
   "name": "python3"
  },
  "language_info": {
   "codemirror_mode": {
    "name": "ipython",
    "version": 3
   },
   "file_extension": ".py",
   "mimetype": "text/x-python",
   "name": "python",
   "nbconvert_exporter": "python",
   "pygments_lexer": "ipython3",
   "version": "3.9.7"
  }
 },
 "nbformat": 4,
 "nbformat_minor": 5
}

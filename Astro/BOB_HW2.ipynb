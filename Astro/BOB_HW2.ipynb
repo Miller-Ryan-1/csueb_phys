{
 "cells": [
  {
   "cell_type": "markdown",
   "id": "bf57241e",
   "metadata": {},
   "source": [
    "## 2.7"
   ]
  },
  {
   "cell_type": "code",
   "execution_count": 3,
   "id": "7a01c84e",
   "metadata": {},
   "outputs": [],
   "source": [
    "def ν_esc(M,r):\n",
    "    '''\n",
    "    M should be in kilograms\n",
    "    r should be in meters\n",
    "    '''\n",
    "    G = 6.673e-11 # N m2 kg-2\n",
    "    return ((2*G*M)/r)**.5"
   ]
  },
  {
   "cell_type": "markdown",
   "id": "decead3b",
   "metadata": {},
   "source": [
    "#### - 2.7a."
   ]
  },
  {
   "cell_type": "code",
   "execution_count": 15,
   "id": "cea03b29",
   "metadata": {},
   "outputs": [
    {
     "name": "stdout",
     "output_type": "stream",
     "text": [
      "The escape velocity at the surface of Jupiter (from Jupiter) = 60.62 km/s.\n"
     ]
    }
   ],
   "source": [
    "M_Jupiter = 1.90e27 #kg\n",
    "r_Jupiter = 6.9e7 # m\n",
    "\n",
    "print('The escape velocity at the surface of Jupiter (from Jupiter) =',round(ν_esc(M_Jupiter,r_Jupiter)/1e3,2), 'km/s.')"
   ]
  },
  {
   "cell_type": "markdown",
   "id": "f9a3bd57",
   "metadata": {},
   "source": [
    "#### - 2.7b."
   ]
  },
  {
   "cell_type": "code",
   "execution_count": 16,
   "id": "4b8c5b6e",
   "metadata": {},
   "outputs": [
    {
     "name": "stdout",
     "output_type": "stream",
     "text": [
      "The escape velocity at the surface of earth (from the Solar System) = 42.13 km/s.\n"
     ]
    }
   ],
   "source": [
    "M_Sun = 1.9891e30 # kg\n",
    "r_earth_orbit = 1.49597787066e11 # m = 1 AU\n",
    "\n",
    "print('The escape velocity at the surface of earth (from the Solar System) =',round(ν_esc(M_Sun,r_earth_orbit)/1e3,2),'km/s.')"
   ]
  },
  {
   "cell_type": "markdown",
   "id": "b1127c59",
   "metadata": {},
   "source": [
    "## 2.8"
   ]
  },
  {
   "cell_type": "code",
   "execution_count": 25,
   "id": "fa1f5272",
   "metadata": {},
   "outputs": [],
   "source": [
    "# Assume all masses are dominated by single large mass\n",
    "import numpy as np\n",
    "\n",
    "def P_from_a(a,M):\n",
    "    '''\n",
    "    a should be in meters\n",
    "    M should be in kilograms\n",
    "    '''\n",
    "    G = 6.673e-11 # N m2 kg-2\n",
    "    return np.sqrt((4 * np.pi**2 * a**3)/(G*M))\n",
    "\n",
    "def a_from_P(P,M):\n",
    "    '''\n",
    "    P should be in seconds\n",
    "    M should be in kilograms\n",
    "    '''\n",
    "    G = 6.673e-11 # N m2 kg-2\n",
    "    return ((P**2 * G * M)/(4*np.pi**2))**(1/3)"
   ]
  },
  {
   "cell_type": "markdown",
   "id": "f5e5b6a2",
   "metadata": {},
   "source": [
    "#### - 2.8a."
   ]
  },
  {
   "cell_type": "code",
   "execution_count": 38,
   "id": "08d71420",
   "metadata": {},
   "outputs": [
    {
     "name": "stdout",
     "output_type": "stream",
     "text": [
      "The period of Hubble is 5814 seconds per orbit around Earth.\n"
     ]
    }
   ],
   "source": [
    "M_Earth = 5.9736e24 # kg\n",
    "r_earth = 6.378136e6 # m\n",
    "r_orbit = 610e3 # m\n",
    "r_Hubble = r_earth + r_orbit # m\n",
    "\n",
    "print('The period of Hubble is',round(P_from_a(r_Hubble,M_Earth)),'seconds per orbit around Earth.')"
   ]
  },
  {
   "cell_type": "markdown",
   "id": "33eb5f2c",
   "metadata": {},
   "source": [
    "#### - 2.8b."
   ]
  },
  {
   "cell_type": "code",
   "execution_count": 35,
   "id": "9aff139c",
   "metadata": {},
   "outputs": [
    {
     "name": "stdout",
     "output_type": "stream",
     "text": [
      "The distance from the earth required for a geosynchronoous orbit is 35864 kilometers.\n"
     ]
    }
   ],
   "source": [
    "solar_day = 86400 # s\n",
    "M_Earth = 5.9736e24 # kg\n",
    "r_earth = 6.378136e6 # m\n",
    "\n",
    "a = a_from_P(solar_day,M_Earth)\n",
    "\n",
    "print('The distance from the earth required for a geosynchronoous orbit is',round((a-r_earth)/1e3),'kilometers.')"
   ]
  },
  {
   "cell_type": "markdown",
   "id": "fa0f414f",
   "metadata": {},
   "source": [
    "#### - 2.8c."
   ]
  },
  {
   "cell_type": "markdown",
   "id": "608f36ee",
   "metadata": {},
   "source": [
    "A satellite over any location but the equator would have to rotate around the planet at a latitude, which is not a stable orbit since it does not go around the Earth's center of mass (along a great circle).  Even if over the equator, the pull of the sun would likely have impact since the satellite is not at a Lagrange point."
   ]
  }
 ],
 "metadata": {
  "kernelspec": {
   "display_name": "Python 3 (ipykernel)",
   "language": "python",
   "name": "python3"
  },
  "language_info": {
   "codemirror_mode": {
    "name": "ipython",
    "version": 3
   },
   "file_extension": ".py",
   "mimetype": "text/x-python",
   "name": "python",
   "nbconvert_exporter": "python",
   "pygments_lexer": "ipython3",
   "version": "3.9.7"
  }
 },
 "nbformat": 4,
 "nbformat_minor": 5
}

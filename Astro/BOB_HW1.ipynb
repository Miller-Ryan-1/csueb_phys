{
 "cells": [
  {
   "cell_type": "markdown",
   "id": "c01b833a",
   "metadata": {},
   "source": [
    "# 1.8"
   ]
  },
  {
   "cell_type": "code",
   "execution_count": 1,
   "id": "dc224d19",
   "metadata": {},
   "outputs": [],
   "source": [
    "import numpy as np\n",
    "\n",
    "def ra_to_degrees(ra_h, ra_m, ra_s):\n",
    "    \"\"\"\n",
    "    Convert Right Ascension from H:M:S to decimal degrees.\n",
    "    \n",
    "    RA is typically given in hours, minutes, and seconds:\n",
    "      24h = 360°\n",
    "    => 1 hour = 15 degrees\n",
    "    \n",
    "    Parameters:\n",
    "    ra_h : RA in hours\n",
    "    ra_m : RA in minutes\n",
    "    ra_s : RA in seconds\n",
    "    \n",
    "    Returns:\n",
    "    RA in decimal degrees\n",
    "    \"\"\"\n",
    "    return 15.0 * (ra_h + ra_m/60.0 + ra_s/3600.0)\n",
    "\n",
    "def dec_to_degrees(dec_deg, dec_arcmin, dec_arcsec):\n",
    "    \"\"\"\n",
    "    Convert Declination from D:M:S to decimal degrees.\n",
    "    \n",
    "    Dec is given in degrees, arcminutes, and arcseconds.\n",
    "    If the declination is negative, the degrees are negative.\n",
    "    \n",
    "    Parameters:\n",
    "    dec_deg    : degrees (can be negative)\n",
    "    dec_arcmin : arcminutes\n",
    "    dec_arcsec : arcseconds\n",
    "    \n",
    "    Returns:\n",
    "    Declination in decimal degrees\n",
    "    \"\"\"\n",
    "    # Keep track of the sign from the degree component\n",
    "    sign = 1.0 if dec_deg >= 0 else -1.0\n",
    "    # Convert arcminutes and arcseconds to degrees\n",
    "    abs_dec = abs(dec_deg) + (dec_arcmin / 60.0) + (dec_arcsec / 3600.0)\n",
    "    return sign * abs_dec\n",
    "\n",
    "def degrees_to_ra(ra_deg):\n",
    "    \"\"\"\n",
    "    Convert RA in decimal degrees to (hours, minutes, seconds).\n",
    "    \n",
    "    Parameters\n",
    "    ----------\n",
    "    ra_deg : float\n",
    "        Right Ascension in decimal degrees, typically [0, 360).\n",
    "    \n",
    "    Returns\n",
    "    -------\n",
    "    (ra_h, ra_m, ra_s) : tuple of (int, int, float)\n",
    "        RA in hours (0–23), minutes (0–59), and (float) seconds (0–59.999...).\n",
    "    \"\"\"\n",
    "    # Ensure RA is within [0, 360)\n",
    "    ra_deg = ra_deg % 360.0\n",
    "    \n",
    "    # Convert degrees to \"RA hours\"\n",
    "    ra_hours = ra_deg / 15.0  # 360 deg = 24h => 1h = 15 deg\n",
    "    \n",
    "    # Extract H, M, S from the fractional hours\n",
    "    ra_h = int(ra_hours)\n",
    "    remainder = (ra_hours - ra_h) * 60.0\n",
    "    ra_m = int(remainder)\n",
    "    ra_s = (remainder - ra_m) * 60.0\n",
    "    \n",
    "    return ra_h, ra_m, ra_s\n",
    "\n",
    "def degrees_to_dec(dec_deg):\n",
    "    \"\"\"\n",
    "    Convert Declination in decimal degrees to (degrees, arcminutes, arcseconds).\n",
    "    \n",
    "    Parameters\n",
    "    ----------\n",
    "    dec_deg : float\n",
    "        Declination in decimal degrees, can be negative (e.g., -26.5).\n",
    "    \n",
    "    Returns\n",
    "    -------\n",
    "    (dec_d, dec_m, dec_s) : tuple of (int, int, float)\n",
    "        Declination as degrees, minutes, seconds.\n",
    "        'dec_d' can be negative; 'dec_m' and 'dec_s' are typically non-negative.\n",
    "    \"\"\"\n",
    "    # Capture the sign and work with absolute degrees\n",
    "    sign = 1 if dec_deg >= 0 else -1\n",
    "    abs_dec = abs(dec_deg)\n",
    "    \n",
    "    # Break down into D, M, S\n",
    "    dec_d = int(abs_dec)\n",
    "    remainder = (abs_dec - dec_d) * 60.0\n",
    "    dec_m = int(remainder)\n",
    "    dec_s = (remainder - dec_m) * 60.0\n",
    "    \n",
    "    # Reapply sign to the degrees portion only\n",
    "    dec_d = sign * dec_d\n",
    "    \n",
    "    return dec_d, dec_m, dec_s\n",
    "\n",
    "def convert_to_degrees(coords):\n",
    "    RA = ra_to_degrees(coords[0][0], coords[0][1], coords[0][2])\n",
    "    dec = dec_to_degrees(coords[1][0], coords[1][1], coords[1][2])\n",
    "    return (RA,dec)\n",
    "\n",
    "def convert_to_coords(degrees):\n",
    "    ra_h, ra_m, ra_s = degrees_to_ra(degrees[0])\n",
    "    dec_d, dec_m, dec_s = degrees_to_dec(degrees[1])\n",
    "    return ((ra_h, ra_m, ra_s),(dec_d, dec_m, dec_s))\n",
    "\n",
    "def calculate_angular_difference(A,B):\n",
    "    '''\n",
    "    Takes in two stars and emits the angular distance between them.\n",
    "    \n",
    "    Star A and B should be entered in (α,δ) format.\n",
    "    '''\n",
    "    A_α_δ = convert_to_degrees(A)\n",
    "    B_α_δ = convert_to_degrees(B)\n",
    "    Δα = A_α_δ[0] - B_α_δ[0]\n",
    "    Δδ = A_α_δ[1] - B_α_δ[1]\n",
    "    avg_δ = (A_α_δ[1] + B_α_δ[1])/2\n",
    "    cos_δ = np.cos(np.radians(avg_δ))\n",
    "    \n",
    "    θ = ((Δα * cos_δ)**2 + (Δδ)**2)**.5\n",
    "    \n",
    "    return θ"
   ]
  },
  {
   "cell_type": "markdown",
   "id": "8f8a3c74",
   "metadata": {},
   "source": [
    "### 1.8 a."
   ]
  },
  {
   "cell_type": "code",
   "execution_count": 2,
   "id": "d9665e0d",
   "metadata": {},
   "outputs": [
    {
     "data": {
      "text/plain": [
       "((217.4289583333333, -62.67947222222222),\n",
       " (219.90208333333334, -60.83397222222222))"
      ]
     },
     "execution_count": 2,
     "metadata": {},
     "output_type": "execute_result"
    }
   ],
   "source": [
    "# Format = ((h,m,s),(°,',\"))\n",
    "P = ((14,29,42.95),(-62,40,46.1)) # Proxima Centauri\n",
    "A = ((14,39,36.50),(-60,50,02.3)) # Alpha Centauri\n",
    "\n",
    "P_d = convert_to_degrees(P)\n",
    "A_d = convert_to_degrees(A)\n",
    "\n",
    "P_d, A_d"
   ]
  },
  {
   "cell_type": "code",
   "execution_count": 3,
   "id": "dfe64679",
   "metadata": {},
   "outputs": [
    {
     "data": {
      "text/plain": [
       "2.185297782328779"
      ]
     },
     "execution_count": 3,
     "metadata": {},
     "output_type": "execute_result"
    }
   ],
   "source": [
    "Δθ = calculate_angular_difference(P,A)\n",
    "Δθ"
   ]
  },
  {
   "cell_type": "markdown",
   "id": "adc85bf8",
   "metadata": {},
   "source": [
    "### 1.8 b."
   ]
  },
  {
   "cell_type": "code",
   "execution_count": 4,
   "id": "46e6a38f",
   "metadata": {},
   "outputs": [
    {
     "data": {
      "text/plain": [
       "1525255794320460.5"
      ]
     },
     "execution_count": 4,
     "metadata": {},
     "output_type": "execute_result"
    }
   ],
   "source": [
    "r = 4.0e16\n",
    "\n",
    "d = r * np.sin(np.radians(Δθ)) # Distance between proxima and alpha centauri\n",
    "d"
   ]
  },
  {
   "cell_type": "markdown",
   "id": "1fdd7353",
   "metadata": {},
   "source": [
    "# 1.9"
   ]
  },
  {
   "cell_type": "markdown",
   "id": "586fd43d",
   "metadata": {},
   "source": [
    "### 1.9 a."
   ]
  },
  {
   "cell_type": "code",
   "execution_count": 5,
   "id": "a99ef811",
   "metadata": {},
   "outputs": [],
   "source": [
    "t_j = 2000.0\n",
    "\n",
    "t = 2010.0\n",
    "\n",
    "T = (t - t_j)/100\n",
    "\n",
    "# All coefficients in degrees\n",
    "\n",
    "M = 1.2812323 * T + 0.0003879 * T**2 + 0.0000101 * T**3\n",
    "N = 0.5567530 * T - 0.0001185 * T**2 - 0.0000116 * T**3"
   ]
  },
  {
   "cell_type": "code",
   "execution_count": 6,
   "id": "2e8ed02c",
   "metadata": {},
   "outputs": [
    {
     "data": {
      "text/plain": [
       "(217.4289583333333, -62.67947222222222)"
      ]
     },
     "execution_count": 6,
     "metadata": {},
     "output_type": "execute_result"
    }
   ],
   "source": [
    "P_d"
   ]
  },
  {
   "cell_type": "code",
   "execution_count": 7,
   "id": "79f697e1",
   "metadata": {},
   "outputs": [
    {
     "data": {
      "text/plain": [
       "(217.4289583333333,\n",
       " 0.12289131904968786,\n",
       " -62.67947222222222,\n",
       " -0.04401399789156724)"
      ]
     },
     "execution_count": 7,
     "metadata": {},
     "output_type": "execute_result"
    }
   ],
   "source": [
    "α_deg = P_d[0]\n",
    "δ_deg = P_d[1]\n",
    "\n",
    "Δα_deg_pres = M + N * np.sin(α_deg) * np.tan(δ_deg)\n",
    "Δδ_deg_pres = N * np.cos(α_deg)\n",
    "\n",
    "α_deg, Δα_deg_pres, δ_deg, Δδ_deg_pres"
   ]
  },
  {
   "cell_type": "code",
   "execution_count": 8,
   "id": "97f12f60",
   "metadata": {},
   "outputs": [
    {
     "data": {
      "text/plain": [
       "((14, 30, 12.443916571919544), (-62, 43, 24.550392409649362))"
      ]
     },
     "execution_count": 8,
     "metadata": {},
     "output_type": "execute_result"
    }
   ],
   "source": [
    "new_coords = convert_to_coords((α_deg + Δα_deg_pres ,δ_deg + Δδ_deg_pres))\n",
    "new_coords"
   ]
  },
  {
   "cell_type": "markdown",
   "id": "421aaef6",
   "metadata": {},
   "source": [
    "### 1.9 b."
   ]
  },
  {
   "cell_type": "code",
   "execution_count": 9,
   "id": "0b533a09",
   "metadata": {},
   "outputs": [
    {
     "data": {
      "text/plain": [
       "(-0.0227326889068257, 0.0022177247020561007)"
      ]
     },
     "execution_count": 9,
     "metadata": {},
     "output_type": "execute_result"
    }
   ],
   "source": [
    "φ = 282 # position angle, in degrees\n",
    "\n",
    "# Format =(°,',\")\n",
    "dθ = (0,0,3.84)\n",
    "Δθ = (t - t_j) * np.array(dθ)\n",
    "Δθ_d = dec_to_degrees(Δθ[0],Δθ[1], Δθ[2])\n",
    "\n",
    "Δα_deg_pm = Δθ_d * np.sin(np.radians(φ))/np.cos(np.radians(δ_deg))\n",
    "Δδ_deg_pm = Δθ_d * np.cos(np.radians(φ))\n",
    "\n",
    "Δα_deg_pm, Δδ_deg_pm"
   ]
  },
  {
   "cell_type": "markdown",
   "id": "83b0262a",
   "metadata": {},
   "source": [
    "### 1.9 c."
   ]
  },
  {
   "cell_type": "code",
   "execution_count": 10,
   "id": "3f698407",
   "metadata": {},
   "outputs": [
    {
     "name": "stdout",
     "output_type": "stream",
     "text": [
      "Change in right ascension from precession =  0.1229 ; from proper motion =  -0.0227\n",
      "Change in declination from precession =  -0.044 ; from proper motion =  0.0022\n",
      "\n",
      "The change due to precession is much more signifigant, which makes sense - \n",
      "prcession happens on much shorter timescales.\n"
     ]
    }
   ],
   "source": [
    "print('Change in right ascension from precession = ',round(Δα_deg_pres,4),'; from proper motion = ', round(Δα_deg_pm,4))\n",
    "print('Change in declination from precession = ',round(Δδ_deg_pres,4),'; from proper motion = ', round(Δδ_deg_pm,4))\n",
    "print('\\nThe change due to precession is much more signifigant, which makes sense - \\nprcession happens on much shorter timescales.')"
   ]
  }
 ],
 "metadata": {
  "kernelspec": {
   "display_name": "Python 3 (ipykernel)",
   "language": "python",
   "name": "python3"
  },
  "language_info": {
   "codemirror_mode": {
    "name": "ipython",
    "version": 3
   },
   "file_extension": ".py",
   "mimetype": "text/x-python",
   "name": "python",
   "nbconvert_exporter": "python",
   "pygments_lexer": "ipython3",
   "version": "3.9.7"
  }
 },
 "nbformat": 4,
 "nbformat_minor": 5
}

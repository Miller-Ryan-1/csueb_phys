{
 "cells": [
  {
   "cell_type": "code",
   "execution_count": 1,
   "id": "1397f8e6",
   "metadata": {},
   "outputs": [],
   "source": [
    "import numpy as np\n",
    "import pandas as pd\n",
    "import matplotlib.pyplot as plt\n",
    "\n",
    "#from pde_functions import PDE_plotter_1D\n",
    "import time\n",
    "from IPython.display import display, clear_output"
   ]
  },
  {
   "cell_type": "markdown",
   "id": "20502a2b",
   "metadata": {},
   "source": [
    "## 1D (Linear) Wave Equation is a Linear Hyperbolic PDE:\n",
    "## $u_{tt} = c^{2}u_{xx}, \\tiny\\text{where c = a constant}$"
   ]
  },
  {
   "cell_type": "markdown",
   "id": "2f0bfd43",
   "metadata": {},
   "source": [
    "### Initial Conditions and Boundary Conditions\n",
    "- Both BC and IC are set directly here in these functions\n",
    "- IC currently set to create a Gaussian spike around xc with width w (set using **kwargs)\n",
    "    - Gaussian spike = $\\exp\\left(-\\frac{(x - x_c)^2}{w^2}\\right)$\n",
    "- BCs are zero at both ends"
   ]
  },
  {
   "cell_type": "code",
   "execution_count": 2,
   "id": "28787ec0",
   "metadata": {},
   "outputs": [],
   "source": [
    "# Initial Condition Functions\n",
    "def f_u_0_x(x_grid,**kwargs):\n",
    "    '''\n",
    "    Assigns the initial values (t=0) for U, inner nodes.\n",
    "    If the initial value is a constant, leave function as-is.\n",
    "    If the initial value is a function of x, replace return value with function.\n",
    "    \n",
    "    Parameters: \n",
    "    **kwargs - Enter in any arguments necessary for the function to run.\n",
    "    '''\n",
    "    # Create Data Holder - same size as x_grid\n",
    "    u_t_x_0 = np.zeros_like(x_grid)\n",
    "    \n",
    "    # Loop through grid locations and assign initial values\n",
    "    for i, x in enumerate(x_grid):\n",
    "        u_t_x_0[i] = (np.exp(-(x-xc)**2/w**2))\n",
    "        \n",
    "    return u_t_x_0\n",
    "    \n",
    "def f_u_t_0(t):\n",
    "    '''\n",
    "    Assigns the initial value for the 0-boundary.\n",
    "    If the boundary is a constant value, leave function as-is.\n",
    "    If boundary is a function of t, replace return value with function.\n",
    "    \n",
    "    Parameters: t = time [Float]    \n",
    "    '''    \n",
    "    return 0\n",
    "\n",
    "def f_u_t_L(t):\n",
    "    '''\n",
    "    Assigns the initial value for the L-boundary.\n",
    "    If the boundary is a constant value, leave function as-is.\n",
    "    If boundary is a function of t, replace return value with function.\n",
    "    \n",
    "    Parameters: t = time [Float] \n",
    "    '''\n",
    "    return 0"
   ]
  },
  {
   "cell_type": "markdown",
   "id": "4d245e0e",
   "metadata": {},
   "source": [
    "### Explicit Solver Function"
   ]
  },
  {
   "cell_type": "code",
   "execution_count": 3,
   "id": "836f4b90",
   "metadata": {},
   "outputs": [],
   "source": [
    "def wave_1D_explicit_timestep(u_line,u_line_previous,c,m,dt,dx):\n",
    "    '''\n",
    "    Takes in:\n",
    "    u_line [1D array] - Values of the wave equation at time now (used to rpedict next step)\n",
    "    u_line_previous [1d array] - Values of the wave equation at the previous step\n",
    "    m [int] - The space index being examined\n",
    "    dt [float] - Time step\n",
    "    dx [float] - X step\n",
    "    \n",
    "    Returns:\n",
    "    The next time evolution step of the 1D linear wave equation.\n",
    "    \n",
    "    Uses Centered Finite Difference Approximations in Space and Time to determine the evolution of the wave\n",
    "    equation.\n",
    "    '''\n",
    "    \n",
    "    return (dt**2/dx**2) * c**2 * (u_line[m+1] + u_line[m-1] - 2*u_line[m]) + 2*u_line[m] - u_line_previous[m]"
   ]
  },
  {
   "cell_type": "markdown",
   "id": "f890f4ff",
   "metadata": {},
   "source": [
    "### Parameters\n",
    "Along with IC and BC, these parameters need to be set by the user"
   ]
  },
  {
   "cell_type": "code",
   "execution_count": 4,
   "id": "eb75b64b",
   "metadata": {},
   "outputs": [],
   "source": [
    "# Wave Domain Information\n",
    "L = 1 # Length, in units long\n",
    "t_max = 5 # Time in seconds\n",
    "\n",
    "# Domain step size\n",
    "dx = .01 # Space step is .01 length units\n",
    "\n",
    "# Wave propogation speed\n",
    "c = .5 # Length units per second\n",
    "\n",
    "# Initial Parameters for Gaussian Pulse \n",
    "xc = L/2 # Where from 0 to L the pulse is centered\n",
    "w = .1 # The Gaussian Pulse width"
   ]
  },
  {
   "cell_type": "markdown",
   "id": "e95ecee5",
   "metadata": {},
   "source": [
    "### Run this cell to create the discretized array which solves the PDE"
   ]
  },
  {
   "cell_type": "code",
   "execution_count": 5,
   "id": "279bdc8e",
   "metadata": {},
   "outputs": [],
   "source": [
    "# Creates a dt that meets CFL conditions\n",
    "dt = dx/c * .5 # Added the .5 factor to ensure well below the CFL, not just at it\n",
    "\n",
    "# Calculates node number\n",
    "Nx = int(L/dx) + 1 # Add an extra node to include x at L, remove later\n",
    "Nt = int(t_max/dt) + 1 #Add an extra node to include t at t_max, remove later\n",
    "\n",
    "# Creates node grids\n",
    "x_grid = np.linspace(0,L,Nx)\n",
    "t_grid = np.linspace(0,t_max,Nt)\n",
    "\n",
    "# Creates solution data holder\n",
    "U = np.zeros([len(t_grid),len(x_grid)])\n",
    "\n",
    "# Appends initial conditions (t = 0)\n",
    "u_t_x_0 = f_u_0_x(x_grid,xc = xc,w = w)\n",
    "\n",
    "# Boundary Conditions\n",
    "u_t_x_0[0] = f_u_t_0(0)\n",
    "u_t_x_0[-1] = f_u_t_L(0)\n",
    "\n",
    "U[0:2,:] = u_t_x_0 # Fills first two lines of U with initial conditions\n",
    "\n",
    "# Evolves the wave through the rest of the time steps\n",
    "for t in range(2,len(t_grid)):    \n",
    "    for x in range(1,len(x_grid)-1):\n",
    "        U[t,x] = wave_1D_explicit_timestep(U[t-1],U[t-2],c,x,dt,dx)\n",
    "\n",
    "    # Append the first and last value with boundary conditions (0 in this case)\n",
    "    U[t,0] = f_u_t_0(0)\n",
    "    U[t,L] = f_u_t_L(0)"
   ]
  },
  {
   "cell_type": "markdown",
   "id": "7039a44b",
   "metadata": {},
   "source": [
    "### Plot Using Custom Plotting Function\n",
    "#### IMPORTANT - Run plotting function at the [bottom of the notebook](#Plotter:) first.\n"
   ]
  },
  {
   "cell_type": "code",
   "execution_count": 7,
   "id": "27190f1e",
   "metadata": {},
   "outputs": [
    {
     "data": {
      "image/png": "[encoded data removed]",
      "text/plain": [
       "<Figure size 1000x600 with 1 Axes>"
      ]
     },
     "metadata": {},
     "output_type": "display_data"
    }
   ],
   "source": [
    "steps = 20 # How many time snapshots to show \n",
    "t_min_plot = 0       # default = 0\n",
    "t_max_plot = t_max       # default = len()\n",
    "x_min_plot = 0       # default = 0\n",
    "x_max_plot = L     # default = L_6\n",
    "alpha_decay = .2  # How fast the previous wave plots disappear (helps visualize wave)\n",
    " \n",
    "# Grapher\n",
    "PDE_plotter_1D(U, L, t_max, steps, t_min_plot, t_max_plot, x_min_plot, x_max_plot, alpha_decay)"
   ]
  },
  {
   "cell_type": "markdown",
   "id": "a59de747",
   "metadata": {},
   "source": [
    "----"
   ]
  },
  {
   "cell_type": "markdown",
   "id": "be3b97f6",
   "metadata": {},
   "source": [
    "### Plotter:"
   ]
  },
  {
   "cell_type": "code",
   "execution_count": 6,
   "id": "ae704ff3",
   "metadata": {},
   "outputs": [],
   "source": [
    "def PDE_plotter_1D(U, L, t_max, steps, t_min_plot, t_max_plot, x_min_plot, x_max_plot, alpha_decay = .7, style = 'multi'):\n",
    "    '''\n",
    "    Function takes in calculated 1D data changing over time\n",
    "    array of lists, the outer array holding timesteps and the inner a\n",
    "    '''\n",
    "    # Check for Errors\n",
    "    if t_max_plot > t_max:\n",
    "        raise Exception('Plotting end time exceeds maximum time')\n",
    "    if t_min_plot < 0:\n",
    "        raise Exception('Plotting start time must be greater than 0')\n",
    "    if t_min_plot >= t_max_plot:\n",
    "        raise Exception('Max plot time greater than minimum plot time')\n",
    "    if x_min_plot < 0:\n",
    "        raise Exception('Minimum x plot less than left boundary')\n",
    "    if x_max_plot > L:\n",
    "        raise Exception('Mamimum x plot larger than the right boundary')\n",
    "    if x_min_plot >= x_max_plot:\n",
    "        raise Exception('Invalid x value plotting range')\n",
    "    \n",
    "\n",
    "    dt = t_max/len(U)\n",
    "    t_min_index = int(t_min_plot / dt)\n",
    "    #*#t_max_index = int(t_max_plot / dt)\n",
    "    t_max_index = int(t_max_plot / dt) + 1\n",
    "    print('t_min_index:',t_min_index)\n",
    "    print('t_max_index:',t_max_index)\n",
    "    \n",
    "    dx = L/len(U[0])\n",
    "    x_min_index = int(x_min_plot / dx)\n",
    "    x_max_index = int(x_max_plot / dx)\n",
    "    print('x_min_index:',x_min_index)\n",
    "    print('x_max_index:',x_max_index)\n",
    "\n",
    "    # Create slice to analyze\n",
    "    U_slice = U[t_min_index:t_max_index]\n",
    "    \n",
    "    fig, ax = plt.subplots(figsize=(10, 6))\n",
    "    ax.set_xlabel('x')  # Set x-axis label\n",
    "    ax.set_ylabel('T')  # Set y-axis label\n",
    "\n",
    "    # Set the y-axis limits\n",
    "    y_min = min([min(u) for u in U_slice]) - 0.5  # Find the minimum y-value in U with some buffer\n",
    "    y_max = max([max(u) for u in U_slice]) + 0.5  # Find the maximum y-value in U with some buffer\n",
    "    ax.set_ylim(y_min, y_max)\n",
    "\n",
    "    # Set the x-axis limits\n",
    "    ax.set_xlim(x_min_plot, x_max_plot)\n",
    "    \n",
    "    lines = []  # List to store line objects\n",
    "\n",
    "    plt.show()\n",
    "    \n",
    "    interval = len(U_slice)//steps\n",
    "\n",
    "    color_counter = 5\n",
    "   \n",
    "    for i in np.arange(0, len(U_slice), interval):\n",
    "        # Update the alpha values of existing lines\n",
    "        \n",
    "        for line in lines:\n",
    "            line.set_alpha(line.get_alpha() * alpha_decay)\n",
    "    \n",
    "        # Compute scaled x-axis values\n",
    "        x_values = np.linspace(0, L, len(U_slice[i]))\n",
    "        x_values_used = x_values[x_min_index:x_max_index+1]\n",
    "        \n",
    "        # Add new line\n",
    "        if style == 'heat':\n",
    "            line_color = 'red'\n",
    "        if style == 'multi':\n",
    "            line_color = ['cyan','green','yellow','magenta','blue'][color_counter%5]\n",
    "            color_counter += 1\n",
    "\n",
    "        new_line, = ax.plot(x_values_used,U_slice[i][x_min_index:x_max_index+1], color=line_color, alpha=1)  # Start with full opacity\n",
    "        lines.append(new_line)  # Store the new line object\n",
    "        #ax.set_title(f\"Plot at time = {i/(len(U_slice)-1)}s\")  # Update the title with the current step\n",
    "        ax.set_title(f\"Plot at time = {round(t_min_plot + i*dt,3)}s\")\n",
    "        \n",
    "        \n",
    "        # Handling plot display\n",
    "        clear_output(wait=True)  # Clear the previous plot\n",
    "        display(fig)  # Display the current figure\n",
    "\n",
    "        time.sleep(0.25)  # Pause for half a second before the next update "
   ]
  }
 ],
 "metadata": {
  "kernelspec": {
   "display_name": "Python 3 (ipykernel)",
   "language": "python",
   "name": "python3"
  },
  "language_info": {
   "codemirror_mode": {
    "name": "ipython",
    "version": 3
   },
   "file_extension": ".py",
   "mimetype": "text/x-python",
   "name": "python",
   "nbconvert_exporter": "python",
   "pygments_lexer": "ipython3",
   "version": "3.9.7"
  }
 },
 "nbformat": 4,
 "nbformat_minor": 5
}

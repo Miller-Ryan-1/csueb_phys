{
 "cells": [
  {
   "cell_type": "markdown",
   "metadata": {},
   "source": [
    "## Solving an ODE using python\n",
    "\n",
    "Ordinary differential equations describe how changes in one parameter affect another. A classic example is a harmonic oscillator.\n",
    "\n",
    "See this link for background on second-order ODEs:\n",
    "\n",
    "https://www.stewartcalculus.com/data/CALCULUS%20Concepts%20and%20Contexts/upfiles/3c3-AppsOf2ndOrders_Stu.pdf\n",
    "\n",
    "In this notebook, we work with equation 3 in the above doc, exploring the solution to the ODE given various input parameters.\n",
    "\n",
    "Our equation is:\n",
    "\n",
    "$$ m \\ddot{x} + k x + b \\dot{x} = 0$$\n",
    "\n",
    "where $m$ is the mass, $k$ is the spring stiffness, and $b$ is a damping constant."
   ]
  },
  {
   "cell_type": "code",
   "execution_count": 1,
   "metadata": {},
   "outputs": [],
   "source": [
    "# import libraries\n",
    "import numpy as np\n",
    "import scipy as sp\n",
    "from scipy.integrate import odeint\n",
    "import matplotlib.pyplot as plt\n",
    "import scipy.optimize\n",
    "from ipywidgets import interact\n",
    "# This makes the plots appear inside the notebook\n",
    "%matplotlib inline\n",
    "# %matplotlib nbagg"
   ]
  },
  {
   "cell_type": "markdown",
   "metadata": {},
   "source": [
    "We define the 0th entry of the array X as as $x$, 1th entry of X as $\\dot{x}$. \n",
    "\n",
    "$$\n",
    "\\vec{X} =  \\begin{pmatrix}\n",
    "x\\\\\n",
    "\\dot{x}\n",
    "\\end{pmatrix}\n",
    "$$\n",
    "\n",
    "Then our defined function DX_dt returns the derivatives of the array X: \n",
    "\n",
    "$$\n",
    "\\dot{\\vec{X}}=\\begin{pmatrix}\n",
    "\\dot{x}\\\\ \n",
    "\\ddot{x}\n",
    "\\end{pmatrix}\n",
    "$$\n",
    "as the right hand side of our ordinary differential equation, where $\\ddot{x}$ is filled in for the derived expression in the differential equation.\n",
    "\n",
    "The function odeint from scipy can now solve this defined DX_dt relation for $x(t)$ (and thus also $\\dot{x}(t)$). \n",
    "\n",
    "Goal: determine what needs to be entered in the definition of DX_dt in order to solve the ODE numerically. When you think you have it correct, try running the cell and see if the result is what you expect. \n",
    "\n",
    "Syntax: X[0] is $x$, and X[1] is $\\dot{x}$.\n",
    "\n",
    "\n",
    "\n",
    "tutorials:\n",
    "\n",
    "https://aleksandarhaber.com/solve-ordinary-differential-equation-in-python-by-using-odeint-function/\n",
    "\n",
    "https://apmonitor.com/pdc/index.php/Main/SolveDifferentialEquations\n",
    "\n"
   ]
  },
  {
   "cell_type": "code",
   "execution_count": 2,
   "metadata": {},
   "outputs": [
    {
     "ename": "SyntaxError",
     "evalue": "invalid syntax (<ipython-input-2-a569e5b4d888>, line 7)",
     "output_type": "error",
     "traceback": [
      "\u001b[0;36m  File \u001b[0;32m\"<ipython-input-2-a569e5b4d888>\"\u001b[0;36m, line \u001b[0;32m7\u001b[0m\n\u001b[0;31m    return [  ,  ]  # user defines the two elements of dX_dt here.\u001b[0m\n\u001b[0m              ^\u001b[0m\n\u001b[0;31mSyntaxError\u001b[0m\u001b[0;31m:\u001b[0m invalid syntax\n"
     ]
    }
   ],
   "source": [
    "time_axis = np.arange(0, 30.0, 0.01)\n",
    "\n",
    "def DX_dt(X, t,args):\n",
    "    m = args[0]\n",
    "    k = args[1]\n",
    "    b = args[2]\n",
    "    return [  ,  ]  # CHANGE THIS line!  user defines the two elements of dX_dt here.\n",
    "\n",
    "# parameters:\n",
    "mass = 1 # kg\n",
    "stiffness = 1 # N/m\n",
    "damping = 0.2 # kg/s\n",
    "params = (mass, stiffness, damping)\n",
    "# initial conditions:\n",
    "x0 = 1\n",
    "v0 = 0\n",
    "\n",
    "# solve ODE:\n",
    "X_soln = sp.integrate.odeint(DX_dt, [x0, v0], time_axis, args=(params,))   \n",
    "x_soln = X_soln[:,0]\n",
    "xdot_soln = X_soln[:,1]\n",
    "\n",
    "# plotting\n",
    "plt.clf()\n",
    "plt.plot(time_axis,x_soln,'b',label='ode solution')\n",
    "plt.xlabel('time (sec)',fontsize=15)\n",
    "plt.ylabel('mass position (meters)',fontsize=15)\n",
    "plt.rc('xtick', labelsize=10)\n",
    "plt.rc('ytick', labelsize=10)\n",
    "plt.grid()\n",
    "plt.title('Solution to ODE',fontsize=15)\n",
    "plt.legend(frameon=False,loc=1)\n",
    "plt.show()\n"
   ]
  },
  {
   "cell_type": "markdown",
   "metadata": {},
   "source": [
    "It is sometimes helpful to introduce \"sliders\" to explore how changing a parameter changes the overall result, without having to run the lines manually each time one changes a parameter.\n",
    "\n",
    "Below is an example of the `interact` funtion, which was loaded above from `ipywidgets`. \n",
    "\n",
    "Goal: Modify this example to include the solving of the ODE, making sliders for all five parameters: mass, stiffness, damping, and the two initial conditions, $x(0)$ and $v(0)$."
   ]
  },
  {
   "cell_type": "code",
   "execution_count": 3,
   "metadata": {},
   "outputs": [
    {
     "data": {
      "application/vnd.jupyter.widget-view+json": {
       "model_id": "2420560066a140079871c55063efdedf",
       "version_major": 2,
       "version_minor": 0
      },
      "text/plain": [
       "interactive(children=(FloatSlider(value=1.0, description='amplitude', max=1.0), FloatSlider(value=1.0, descrip…"
      ]
     },
     "metadata": {},
     "output_type": "display_data"
    }
   ],
   "source": [
    "def plot_sine(amplitude=1.0, frequency=1.0,phase = 0.0):\n",
    "    plt.ylim(-1.0, 1.0);\n",
    "    time = np.linspace(0, 10, 1000)\n",
    "    plt.plot(time, amplitude*np.sin(2*np.pi*frequency*time-phase));\n",
    "    plt.xlabel('time (s)',fontsize=15)\n",
    "    plt.ylabel('mass position (meters)',fontsize=15)\n",
    "\n",
    "interact(plot_sine, amplitude=(0.0, 1.0),frequency=(0.2, 5.0),phase=(-6.3,6.3));\n"
   ]
  },
  {
   "cell_type": "markdown",
   "metadata": {
    "collapsed": true
   },
   "source": [
    "Questions to address:\n",
    "\n",
    "1) What does making the mass larger do to the oscillations? Explain how this is intuitive.\n",
    "\n",
    "2) What is the effect of making the spring stiffer? Does this make sense?\n",
    "\n",
    "3) For $v(0)=0$, what effect does changing $x(0)$ have on the motion? Is the frequency of oscillation changed? What is the solution for $x(0) = 0$?\n",
    "\n",
    "4) For $x(0) = 0$, is there nontrivial motion if $v(0)$ is modified? Explain what is going on here.\n",
    "\n",
    "5) Adjust the parameters to find an \"overdamped\" situation where the mass does not oscillate. Report your parameters and include a graph of the motion."
   ]
  },
  {
   "cell_type": "code",
   "execution_count": null,
   "metadata": {
    "collapsed": true
   },
   "outputs": [],
   "source": []
  }
 ],
 "metadata": {
  "kernelspec": {
   "display_name": "Python 3 (ipykernel)",
   "language": "python",
   "name": "python3"
  },
  "language_info": {
   "codemirror_mode": {
    "name": "ipython",
    "version": 3
   },
   "file_extension": ".py",
   "mimetype": "text/x-python",
   "name": "python",
   "nbconvert_exporter": "python",
   "pygments_lexer": "ipython3",
   "version": "3.9.7"
  },
  "widgets": {
   "state": {
    "f6b21c2dc0474cbc8de40ebdfa758255": {
     "views": [
      {
       "cell_index": 5
      }
     ]
    }
   },
   "version": "1.2.0"
  }
 },
 "nbformat": 4,
 "nbformat_minor": 2
}
